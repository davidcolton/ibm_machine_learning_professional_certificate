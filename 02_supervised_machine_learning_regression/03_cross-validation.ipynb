{
 "cells": [
  {
   "cell_type": "markdown",
   "id": "74ed00a7-de62-4947-ad29-aa6caf94b4bf",
   "metadata": {},
   "source": [
    "<p style=\"text-align:center\">\n",
    "    <a href=\"https://skills.network\" target=\"_blank\">\n",
    "    <img src=\"https://cf-courses-data.s3.us.cloud-object-storage.appdomain.cloud/assets/logos/SN_web_lightmode.png\" width=\"200\" alt=\"Skills Network Logo\">\n",
    "    </a>\n",
    "</p>\n"
   ]
  },
  {
   "cell_type": "markdown",
   "id": "76348a28-fb8b-4e79-a5ff-5efb52b0cc2c",
   "metadata": {},
   "source": [
    "# Cross Validation\n",
    "\n",
    "Estimated time needed: **45** minutes\n",
    "\n",
    "When performing supervised machine learning analysis, it is common to withhold a portion of the data to test the final model's performance. This model testing is performed on the 'unseen' data, which the model was not trained on. This withholding of a portion of the dataset for testing is called Cross-Validation. Cross-Validation can also be used to select hyper-parameters and test the final model. In this section, we will will focus on the test data only.\n",
    "\n",
    "Cross-Validation also helps avoid over-fitting; a complex model could repeat the labels of the samples that it has just seen and, therefore, would have a perfect score but would fail to predict anything useful on the 'unseen' data. Furthermore, a complex model could just be modeling noise.\n"
   ]
  },
  {
   "cell_type": "markdown",
   "id": "b3ca8b98-cd5f-4676-aa4a-7df82c3c424e",
   "metadata": {},
   "source": [
    "Cross validation method involves dividing the dataset into 3 parts:\n",
    "\n",
    "*   training set - is portion of the data used to fit the model\n",
    "*   validation set - is portion of the data to optimize the hyper-parameters of the model, this will be illustrated in the next lab\n",
    "*   test set - is the portion of the data used for evaluation of a final model fit on the training dataset\n"
   ]
  },
  {
   "cell_type": "markdown",
   "id": "af899feb-0643-4a27-9b29-e4c82dcf695b",
   "metadata": {},
   "source": [
    "`Scikit Learn` library contains many methods that can perform the splitting of the data into training, testing and validation sets. The most popular methods that we will cover in this Jupyter Notebook are:\n",
    "\n",
    "*   train_test_split - creates a single split into train and test sets\n",
    "*   K-fold - creates number of k-fold splits, allowing cross validation\n",
    "*   cross_val_score - evaluates model's score through cross validation\n"
   ]
  },
  {
   "cell_type": "markdown",
   "id": "6de01dba-5234-4e9d-bef6-6d1f9d3e1412",
   "metadata": {},
   "source": [
    "## Objectives\n",
    "\n",
    "After completing this lab you will be able to:\n",
    "\n",
    "*   Understand how to split the data into a training and testing sets\n",
    "*   Understand and perform K-fold cross validation method\n",
    "*   Calculate Cross Validation Scores\n"
   ]
  },
  {
   "cell_type": "markdown",
   "id": "4ed8091b-56cc-414b-b909-44f34b1a3867",
   "metadata": {},
   "source": [
    "***\n"
   ]
  },
  {
   "cell_type": "markdown",
   "id": "08ea0569-a26a-4f43-925e-bed7a5daa466",
   "metadata": {},
   "source": [
    "## **Setup**\n"
   ]
  },
  {
   "cell_type": "markdown",
   "id": "53c81561-ea42-4981-a501-1fdafce032cc",
   "metadata": {},
   "source": [
    "For this lab, we will be using the following libraries:\n",
    "\n",
    "*   [`pandas`](https://pandas.pydata.org/?utm_medium=Exinfluencer&utm_source=Exinfluencer&utm_content=000026UJ&utm_term=10006555&utm_id=NA-SkillsNetwork-Channel-SkillsNetworkCoursesIBMML240ENSkillsNetwork34171862-2022-01-01) for managing the data.\n",
    "*   [`numpy`](https://numpy.org/?utm_medium=Exinfluencer&utm_source=Exinfluencer&utm_content=000026UJ&utm_term=10006555&utm_id=NA-SkillsNetwork-Channel-SkillsNetworkCoursesIBMML240ENSkillsNetwork34171862-2022-01-01) for mathematical operations.\n",
    "*   [`seaborn`](https://seaborn.pydata.org/?utm_medium=Exinfluencer&utm_source=Exinfluencer&utm_content=000026UJ&utm_term=10006555&utm_id=NA-SkillsNetwork-Channel-SkillsNetworkCoursesIBMML240ENSkillsNetwork34171862-2022-01-01) for visualizing the data.\n",
    "*   [`matplotlib`](https://matplotlib.org/?utm_medium=Exinfluencer&utm_source=Exinfluencer&utm_content=000026UJ&utm_term=10006555&utm_id=NA-SkillsNetwork-Channel-SkillsNetworkCoursesIBMML240ENSkillsNetwork34171862-2022-01-01) for visualizing the data.\n",
    "*   [`sklearn`](https://scikit-learn.org/stable/?utm_medium=Exinfluencer&utm_source=Exinfluencer&utm_content=000026UJ&utm_term=10006555&utm_id=NA-SkillsNetwork-Channel-SkillsNetworkCoursesIBMML240ENSkillsNetwork34171862-2022-01-01) for machine learning and machine-learning-pipeline related functions.\n"
   ]
  },
  {
   "cell_type": "markdown",
   "id": "8a18d2ac-eb02-4f0c-8417-4e531461c83c",
   "metadata": {},
   "source": [
    "## **Import the required libraries**\n"
   ]
  },
  {
   "cell_type": "markdown",
   "id": "20d8343e-3518-423f-9c71-c0f5c1a3e8ef",
   "metadata": {},
   "source": [
    "The following required modules are pre-installed in the Skills Network Labs environment. However, if you run this notebook commands in a different Jupyter environment (e.g. Watson Studio or Ananconda) you will need to install these libraries by removing the `#` sign before `!mamba` in the code cell below.\n"
   ]
  },
  {
   "cell_type": "code",
   "execution_count": null,
   "id": "bf377ee2-664d-405e-a6bd-c4896e9e3d08",
   "metadata": {},
   "outputs": [],
   "source": [
    "# All Libraries required for this lab are listed below. The libraries pre-installed on Skills Network Labs are commented.\n",
    "# !mamba install -qy pandas==1.3.4 numpy==1.21.4 seaborn==0.9.0 matplotlib==3.5.0 scikit-learn==0.20.1\n",
    "# Note: If your environment doesn't support \"!mamba install\", use \"!pip install\"\n"
   ]
  },
  {
   "cell_type": "code",
   "execution_count": 1,
   "id": "855ab9e4-a3ac-4a6d-a927-9838467a48c6",
   "metadata": {},
   "outputs": [],
   "source": [
    "# Surpress warnings:\n",
    "def warn(*args, **kwargs):\n",
    "    pass\n",
    "import warnings\n",
    "warnings.warn = warn"
   ]
  },
  {
   "cell_type": "code",
   "execution_count": 2,
   "id": "8a305623-4d57-4f19-a015-14dc5516ff1c",
   "metadata": {},
   "outputs": [],
   "source": [
    "import pandas as pd\n",
    "import numpy as np \n",
    "\n",
    "import seaborn as sns \n",
    "import matplotlib.pylab as plt\n",
    "%matplotlib inline\n",
    "\n",
    "from sklearn.model_selection import train_test_split\n",
    "from sklearn.metrics import r2_score \n",
    "from sklearn.metrics import mean_squared_error\n",
    "from sklearn.preprocessing import StandardScaler\n",
    "from sklearn.feature_selection import RFE\n",
    "from sklearn.linear_model import LinearRegression\n",
    "from sklearn.pipeline import Pipeline\n",
    "from sklearn.model_selection import cross_val_score\n",
    "from sklearn.model_selection import KFold\n",
    "from sklearn.model_selection import GridSearchCV\n",
    "from sklearn.preprocessing import Normalizer\n"
   ]
  },
  {
   "cell_type": "markdown",
   "id": "1f67a27a-54a3-4177-a2dd-dd923618ad9a",
   "metadata": {},
   "source": [
    "## **Reading our data**\n"
   ]
  },
  {
   "cell_type": "markdown",
   "id": "170235c5-b8de-4709-86b0-8bbafa23f16d",
   "metadata": {},
   "source": [
    "For this lab, we will be using the car sales dataset, hosted on IBM Cloud object storage. This dataset can also be found and downloaded from [kaggle.com](https://www.kaggle.com/datasets/goyalshalini93/car-data?utm_medium=Exinfluencer&utm_source=Exinfluencer&utm_content=000026UJ&utm_term=10006555&utm_id=NA-SkillsNetwork-Channel-SkillsNetworkCoursesIBMML240ENSkillsNetwork34171862-2022-01-01), an open public data source.\n",
    "The dataset contains all the information about cars, a name of a manufacturer, all car's technical parameters and a sale price of a car.\n",
    "\n",
    "This dataset has already been pre-cleaned and encoded (using one-hot and label encoders) in the Linear Regression Notebook.\n"
   ]
  },
  {
   "cell_type": "markdown",
   "id": "fb43d1ad-18dc-4007-b096-2555db527b16",
   "metadata": {},
   "source": [
    "Let's read the data into *pandas* data frame and look at the first 5 rows using the `head()` method.\n"
   ]
  },
  {
   "cell_type": "code",
   "execution_count": null,
   "id": "afefb61f-8b5a-4c02-836d-a1d92e2bbbd1",
   "metadata": {},
   "outputs": [],
   "source": [
    "# data = pd.read_csv('https://cf-courses-data.s3.us.cloud-object-storage.appdomain.cloud/IBM-ML240EN-SkillsNetwork/labs/encoded_car_data.csv')\n",
    "data = pd.read_csv(\"./data/encoded_car_data.csv\")\n",
    "data.head()"
   ]
  },
  {
   "cell_type": "markdown",
   "id": "65c7ccae-25b1-4ca4-b0c5-f2f24e2191c1",
   "metadata": {},
   "source": [
    "We apply `dtypes.value_counts()` to see what types of data we have.\n"
   ]
  },
  {
   "cell_type": "code",
   "execution_count": null,
   "id": "f13daa1b-86ff-4991-ad8b-7e9cbb0d6eb2",
   "metadata": {},
   "outputs": [],
   "source": [
    "data.dtypes.value_counts()"
   ]
  },
  {
   "cell_type": "markdown",
   "id": "0d655b98-6167-4fed-a7d4-5627483dcb30",
   "metadata": {},
   "source": [
    "We can verify the data type using the method `info()`.\n"
   ]
  },
  {
   "cell_type": "code",
   "execution_count": null,
   "id": "307309e0-afe7-4fec-95d5-548c4ad51f18",
   "metadata": {},
   "outputs": [],
   "source": [
    "data.info()"
   ]
  },
  {
   "cell_type": "markdown",
   "id": "bc4fccfc-fdb0-4e01-a1c1-90a0b3b23010",
   "metadata": {},
   "source": [
    "As we see from above, we now have only numeric parameters.\n"
   ]
  },
  {
   "cell_type": "markdown",
   "id": "5170025a-57e1-4cfd-ae6f-e7e80f0c3095",
   "metadata": {},
   "source": [
    "### Data Preparation\n",
    "\n",
    "Let's first split our data into `X` features and `y` target.\n"
   ]
  },
  {
   "cell_type": "code",
   "execution_count": 6,
   "id": "da48c8fe-f343-428b-bdcd-8d76d1f0ae57",
   "metadata": {},
   "outputs": [],
   "source": [
    "X = data.drop(columns=['price'])\n",
    "y = data['price'].copy()"
   ]
  },
  {
   "cell_type": "markdown",
   "id": "15526340-446f-4121-bad9-0b4c03745676",
   "metadata": {},
   "source": [
    "# Train Test Split\n"
   ]
  },
  {
   "cell_type": "markdown",
   "id": "67a061ca-a1aa-41dd-ab95-059c85fb966f",
   "metadata": {},
   "source": [
    "Now, we split our data into training and testing sets. Training data is used for our model to recognize patterns using some criteria, the test data is used for model evaluation, as shown in the image below.\n"
   ]
  },
  {
   "cell_type": "markdown",
   "id": "e5e00668-ec8b-4313-a941-8eea2d1d4f7f",
   "metadata": {},
   "source": [
    "<center>\n",
    "    <img src=\"https://cf-courses-data.s3.us.cloud-object-storage.appdomain.cloud/IBM-ML240EN-SkillsNetwork/images/trin-test.png\">\n",
    "</center>\n",
    "source scikit-learn.org\n"
   ]
  },
  {
   "cell_type": "markdown",
   "id": "efe52630-f079-41a0-91ff-749b75ca01af",
   "metadata": {},
   "source": [
    "We use the function `train_test_split` that  splits arrays or matrices into random train and test subsets. The parameters of the `train_test_split` are:\n"
   ]
  },
  {
   "cell_type": "markdown",
   "id": "5d96952e-7be0-4df8-9c55-4fb9fc591241",
   "metadata": {},
   "source": [
    "`X,y`: the allowed inputs are lists, numpy arrays, scipy-sparse matrices or pandas data frames.\n",
    "\n",
    "`test_size`:  If float, it should be between 0.0 and 1.0 and represents the proportion of the dataset to include in the test split. If int (integer), it represents the absolute number of test samples. If None, the value is set to the complement of the train size. If train_size is also None, it will be set to 0.25.\n",
    "\n",
    "In our example, we will use 30% of the data for testing and 70% for training.\n",
    "\n",
    "`random_state:` Controls the shuffling applied to the data before applying the split. Pass an int for reproducible output across multiple function calls. in our case, we set it to \"42\".\n"
   ]
  },
  {
   "cell_type": "code",
   "execution_count": 7,
   "id": "8133be8d-862d-4bde-a059-1c5832a2b8b4",
   "metadata": {},
   "outputs": [],
   "source": [
    "X_train, X_test, y_train, y_test = train_test_split(X,y, test_size=0.3, random_state=42)\n"
   ]
  },
  {
   "cell_type": "markdown",
   "id": "133ae8db-55f2-444b-a02b-b3492ba76f5a",
   "metadata": {},
   "source": [
    "### Model Building and Evaluation\n",
    "\n",
    "Let's perform linear regression using traditional `train_test_split`, which will split the data into train and test set, so that each target value appears in both training and testing sets. We will start by creating a `LinearRegression()` object, lr.\n"
   ]
  },
  {
   "cell_type": "code",
   "execution_count": 8,
   "id": "ca673d63-1af4-48e8-8fb9-d827e3fcdedb",
   "metadata": {},
   "outputs": [],
   "source": [
    "lr = LinearRegression()"
   ]
  },
  {
   "cell_type": "markdown",
   "id": "a11549a7-28c5-4b1c-a312-2a0fb92e2a99",
   "metadata": {},
   "source": [
    "We apply the `LinearRegression()` model, m, and `fit()` our `X_train` and `  y_train `  training data.\n"
   ]
  },
  {
   "cell_type": "code",
   "execution_count": null,
   "id": "70533181-ac95-4494-8d34-9dc133f6c676",
   "metadata": {},
   "outputs": [],
   "source": [
    "lr.fit(X_train, y_train)"
   ]
  },
  {
   "cell_type": "markdown",
   "id": "f66f02a2-f50e-44e3-9cd8-136584aea9e5",
   "metadata": {},
   "source": [
    "To make our predictions, we need to use our test data set. We apply `predict()` function on the testing data set.\n"
   ]
  },
  {
   "cell_type": "code",
   "execution_count": 10,
   "id": "cc12d7c0-2d47-4e9f-a919-f0b59d05c761",
   "metadata": {},
   "outputs": [],
   "source": [
    "predicted =lr.predict(X_test)"
   ]
  },
  {
   "cell_type": "markdown",
   "id": "da72efee-4f93-41bf-9430-b08d4fb9496b",
   "metadata": {},
   "source": [
    "Now, let's check some evaluation statistics, such as the coefficient of determination, $R^{2}$, using the built-in method `score` or  `r2_score`, and the Root Mean Square Error, RMSE, for which we can use the `mean_squared_error` method, MSE.\n",
    "\n",
    "The $R^{2}$ statistic indicates the percentage of the variance in the dependent variable that the independent variables explain collectively.\n",
    "\n",
    "Root Mean Square Error (RMSE) is the standard deviation of the residuals (prediction errors). Residuals are a measure of how far from the regression line data points are; RMSE is a measure of how spread out these residuals are. In other words, it tells you how concentrated the data is around the line of best fit.\n",
    "\n",
    "For more information on [R-squared](https://en.wikipedia.org/wiki/Coefficient_of_determination?utm_medium=Exinfluencer&utm_source=Exinfluencer&utm_content=000026UJ&utm_term=10006555&utm_id=NA-SkillsNetwork-Channel-SkillsNetworkCoursesIBMML240ENSkillsNetwork34171862-2022-01-01) and [RMSE](https://en.wikipedia.org/wiki/Root-mean-square_deviation?utm_medium=Exinfluencer&utm_source=Exinfluencer&utm_content=000026UJ&utm_term=10006555&utm_id=NA-SkillsNetwork-Channel-SkillsNetworkCoursesIBMML240ENSkillsNetwork34171862-2022-01-01), please visit their corresponding documentations.\n"
   ]
  },
  {
   "cell_type": "code",
   "execution_count": null,
   "id": "8a19aafb-80b7-4be1-89a7-1ed17ff5c24c",
   "metadata": {},
   "outputs": [],
   "source": [
    "lr.score(X_train,y_train)"
   ]
  },
  {
   "cell_type": "markdown",
   "id": "8da71143-0478-47d4-8c95-8cdac6526a22",
   "metadata": {},
   "source": [
    "Using the training data only, the $R^{2}$ is ~ 0.93. So, almost 93% of variability in the training data is explained by our model.\n"
   ]
  },
  {
   "cell_type": "markdown",
   "id": "e2fba8cd-8636-406c-a8c6-22063528de00",
   "metadata": {},
   "source": [
    "Using the test data  $R^{2}$, we get ~0.85, not as good as the previous score.\n"
   ]
  },
  {
   "cell_type": "code",
   "execution_count": null,
   "id": "500f7bb8-6934-45e8-bda9-29fea33e3235",
   "metadata": {},
   "outputs": [],
   "source": [
    "lr.score(X_test,y_test)"
   ]
  },
  {
   "cell_type": "markdown",
   "id": "5629fc4b-d28e-4d08-a870-93cf8fb78065",
   "metadata": {},
   "source": [
    "We can also use  `r2_score()` method to calculate the $R^2$. It will provide the same result.\n"
   ]
  },
  {
   "cell_type": "code",
   "execution_count": null,
   "id": "7cba1ca3-f3b7-454c-b3c6-3917ea4d192c",
   "metadata": {},
   "outputs": [],
   "source": [
    "print(r2_score(y_true=y_test, y_pred=predicted))"
   ]
  },
  {
   "cell_type": "markdown",
   "id": "875b99a8-0b2e-4e56-9b59-075a6ef22f92",
   "metadata": {},
   "source": [
    "Now, let's calculate the RMSE. The smaller the RMSE number the better our model is.\n",
    "We apply `mean_squared_error` to our `y_test`and our predicted data. Then, we take a square root of our MSE, using `np.sqrt()` function.\n"
   ]
  },
  {
   "cell_type": "code",
   "execution_count": null,
   "id": "a87e35fb-0685-4c05-86fc-0e1e991ad822",
   "metadata": {},
   "outputs": [],
   "source": [
    "mse = mean_squared_error(y_true=y_test, y_pred=predicted)\n",
    "rmse = np.sqrt(mse)\n",
    "rmse"
   ]
  },
  {
   "cell_type": "markdown",
   "id": "21f47b30-e090-4fab-8833-6b4babaea182",
   "metadata": {},
   "source": [
    "### Prediction Example\n",
    "\n",
    "Let's select some random data, using `iloc` and see some predicted versus actual values for the car prices.\n"
   ]
  },
  {
   "cell_type": "code",
   "execution_count": 15,
   "id": "340f38e9-694a-4d8b-9a57-7570d0f7d1b3",
   "metadata": {},
   "outputs": [],
   "source": [
    "some_data = X.iloc[:3]\n",
    "some_labels = y.iloc[:3]"
   ]
  },
  {
   "cell_type": "code",
   "execution_count": null,
   "id": "81747848-84b1-48ef-add2-6ca17171fd8a",
   "metadata": {},
   "outputs": [],
   "source": [
    "print(\"Predictions:\", lr.predict(some_data))"
   ]
  },
  {
   "cell_type": "code",
   "execution_count": null,
   "id": "b8a2dae7-0c1b-4cb9-9514-b6065eca7ded",
   "metadata": {},
   "outputs": [],
   "source": [
    "print(\"Labels:\", list(some_labels))"
   ]
  },
  {
   "cell_type": "code",
   "execution_count": null,
   "id": "c84deab6-3488-4914-89d3-f6a7584b1245",
   "metadata": {},
   "outputs": [],
   "source": [
    "predicted =lr.predict(X_test)\n",
    "predicted"
   ]
  },
  {
   "cell_type": "markdown",
   "id": "221d1038-534a-4759-80b4-7032f0e516d1",
   "metadata": {},
   "source": [
    "We can also use the pipeline to run operations on our data. For example we can standardize our data then perform linear regression by applying the method <code>fit</code>.\n"
   ]
  },
  {
   "cell_type": "code",
   "execution_count": null,
   "id": "8f863cdb-9aa2-4d9b-a9a7-249ad8e91312",
   "metadata": {},
   "outputs": [],
   "source": [
    "pipe = Pipeline([('ss',StandardScaler() ),('lr', LinearRegression())])\n",
    "pipe.fit(X_train,y_train)\n",
    "pipe"
   ]
  },
  {
   "cell_type": "markdown",
   "id": "c1238d89-6ba7-4a61-8b0b-4f66262ec26d",
   "metadata": {},
   "source": [
    "Let's calculate the R squared.\n"
   ]
  },
  {
   "cell_type": "code",
   "execution_count": null,
   "id": "5c0531dc-d281-4354-98fc-4571b4ed087d",
   "metadata": {},
   "outputs": [],
   "source": [
    "pipe.score(X_train,y_train)"
   ]
  },
  {
   "cell_type": "markdown",
   "id": "0b95870e-f60f-4234-9ed4-3adf1532da3c",
   "metadata": {},
   "source": [
    "Using the training data only, the R squared is ~ 0.93.\n",
    "Now, let's check the R squared on the test set.\n"
   ]
  },
  {
   "cell_type": "code",
   "execution_count": null,
   "id": "8674fd5e-0b56-484b-adcd-fd260af69a5a",
   "metadata": {},
   "outputs": [],
   "source": [
    "pipe.score(X_test,y_test)"
   ]
  },
  {
   "cell_type": "markdown",
   "id": "9a03fb38-6272-4b42-b3b6-4903d25fa1f6",
   "metadata": {},
   "source": [
    "The R squared is much lower. This value provides more accurate evaluation of our model since we test our model on the 'unseen' data set. In case if the R squared is negative, it is because the model is too complex and the data is overfitting. For more information, please, visit this [documentation](https://en.wikipedia.org/wiki/Overfitting?utm_medium=Exinfluencer&utm_source=Exinfluencer&utm_content=000026UJ&utm_term=10006555&utm_id=NA-SkillsNetwork-Channel-SkillsNetworkCoursesIBMML240ENSkillsNetwork34171862-2022-01-01) on overfitting.\n",
    "\n",
    "This will make more sense when we explore polynomial regression.\n"
   ]
  },
  {
   "cell_type": "markdown",
   "id": "094eccaa-28fc-4658-8729-c76425083076",
   "metadata": {},
   "source": [
    "## Exercise 1\n",
    "\n",
    "Create a pipeline object called pipe1, replace standardization with normalization. Calculate the $R^{2}$ using the built-in method `score` and for RMSE, using `mean_squared_error` method.\n"
   ]
  },
  {
   "cell_type": "code",
   "execution_count": null,
   "id": "d951e053-2c13-4444-b850-4766b4da7189",
   "metadata": {},
   "outputs": [],
   "source": [
    "# Enter your code and run the cell\n",
    "pipe_1 = Pipeline([('nn',Normalizer() ),('lr', LinearRegression())])\n",
    "pipe_1.fit(X_train, y_train)\n",
    "\n",
    "pipe_1.score(X_train,y_train)\n",
    "pipe_1.score(X_test,y_test)\n",
    "\n",
    "pred =pipe_1.predict(X_test)\n",
    "\n",
    "mse = mean_squared_error(y_true=y_test, y_pred=pred)\n",
    "rmse = np.sqrt(mse)\n",
    "rmse"
   ]
  },
  {
   "cell_type": "markdown",
   "id": "598b2cf3-bf92-4afa-8721-559e51717831",
   "metadata": {},
   "source": [
    "<details>\n",
    "<summary><strong>Solution</strong> (Click Here)</summary>\n",
    "   \n",
    "```python\n",
    "\n",
    "pipe_1 = Pipeline([('nn',Normalizer() ),('lr', LinearRegression())])\n",
    "pipe_1.fit(X_train, y_train)\n",
    "\n",
    "pipe_1.score(X_train,y_train)\n",
    "pipe_1.score(X_test,y_test)\n",
    "\n",
    "pred =pipe_1.predict(X_test)\n",
    "\n",
    "mse = mean_squared_error(y_true=y_test, y_pred=pred)\n",
    "rmse = np.sqrt(mse)\n",
    "rmse\n",
    "\n",
    "```\n",
    "</details>\n"
   ]
  },
  {
   "cell_type": "markdown",
   "id": "065b907a-596a-440f-97ec-b916e17a3564",
   "metadata": {},
   "source": [
    "Note, you can also use `normalize` by setting the `LinearRegression(normalize=True)`.\n"
   ]
  },
  {
   "cell_type": "markdown",
   "id": "b63ebfa5-d31b-4c61-9151-4fcb08ab0af1",
   "metadata": {},
   "source": [
    "## One feature\n"
   ]
  },
  {
   "cell_type": "markdown",
   "id": "393cb725-c0d8-4bff-81a1-97238c069617",
   "metadata": {},
   "source": [
    "We can use the test data to select a feature with the best performance. We have a list of features:\n"
   ]
  },
  {
   "cell_type": "code",
   "execution_count": null,
   "id": "8b47cce5-2d29-4b78-b095-d0433b93a2a5",
   "metadata": {},
   "outputs": [],
   "source": [
    "features=list(X)\n",
    "features"
   ]
  },
  {
   "cell_type": "markdown",
   "id": "c1f3179d-5e3b-4c1d-b080-692049791f3e",
   "metadata": {},
   "source": [
    "We can train a linear regression model using each feature and use the test data to obtain the best feature.\n"
   ]
  },
  {
   "cell_type": "code",
   "execution_count": 24,
   "id": "1701f9d3-1155-407b-9f1e-74340d1fc489",
   "metadata": {},
   "outputs": [],
   "source": [
    "R_2=[]\n",
    "pipe = Pipeline([('ss',StandardScaler() ),('lr', LinearRegression())])\n",
    "\n",
    "for feature in features:\n",
    "    pipe.fit(X_train[[feature]],y_train)\n",
    "    R_2.append(pipe.score(X_train[[feature]],y_train))\n",
    "    \n",
    "    "
   ]
  },
  {
   "cell_type": "markdown",
   "id": "73e72eb5-f175-4b12-9f8e-5388bd9d7b8a",
   "metadata": {},
   "source": [
    "We can plot the $R^{2}$ for each feature.\n"
   ]
  },
  {
   "cell_type": "code",
   "execution_count": null,
   "id": "303207fe-b0d0-4cb7-a71a-8f477a527a68",
   "metadata": {},
   "outputs": [],
   "source": [
    "plt.bar(features,R_2)\n",
    "plt.xticks(rotation=90)\n",
    "plt.ylabel(\"$R^2$\")\n",
    "plt.show()"
   ]
  },
  {
   "cell_type": "markdown",
   "id": "59bcec8a-736f-463c-9288-0ac0dc04860c",
   "metadata": {},
   "source": [
    "Now, we select the feature that works best, using `argmax()` function.\n"
   ]
  },
  {
   "cell_type": "code",
   "execution_count": null,
   "id": "555f8be2-9043-4a8a-baf9-397f8044397c",
   "metadata": {},
   "outputs": [],
   "source": [
    "best=features[np.argmax(R_2)]\n",
    "best"
   ]
  },
  {
   "cell_type": "markdown",
   "id": "99fd2970-2b94-4a25-a7bf-a29b6a72f8ca",
   "metadata": {},
   "source": [
    "So, 'enginesize' is the feature that produces the highest $R^{2}$. We then train the feature that works best using all the data.\n"
   ]
  },
  {
   "cell_type": "code",
   "execution_count": null,
   "id": "e86f4933-a5ef-4cfc-82d4-e11c40340e70",
   "metadata": {},
   "outputs": [],
   "source": [
    "pipe.fit(X[[best]],y)"
   ]
  },
  {
   "cell_type": "markdown",
   "id": "9077e8d2-c25b-4e5b-8d1b-7cb387fbfdb3",
   "metadata": {},
   "source": [
    "## Exercise 2\n",
    "\n",
    "In this Exercise, find the best feature using the test data, without standardization.\n"
   ]
  },
  {
   "cell_type": "code",
   "execution_count": null,
   "id": "244a10e3-db2a-4dca-ae35-4a643269febc",
   "metadata": {},
   "outputs": [],
   "source": [
    "# Enter your code and run the cell\n",
    "R_2=[]\n",
    "\n",
    "for feature in features:\n",
    "\n",
    "    lr.fit(X_train[[feature]], y_train)\n",
    "    R_2.append(lr.score(X_test[[feature]],y_test))\n",
    "\n",
    "\n",
    "best=features[np.argmax(R_2)]\n",
    "\n",
    "plt.bar(features,R_2)\n",
    "plt.xticks(rotation=90)\n",
    "plt.ylabel(\"$R^2$\")\n",
    "\n",
    "plt.show()\n",
    "best=features[np.argmax(R_2)]\n",
    "print(best)"
   ]
  },
  {
   "cell_type": "markdown",
   "id": "5b831d82-2476-4d1c-87a8-01546c4012ff",
   "metadata": {},
   "source": [
    "<details>\n",
    "<summary><strong>Solution</strong> (Click Here)</summary>\n",
    "    \n",
    "```python\n",
    "R_2=[]\n",
    "\n",
    "for feature in features:\n",
    "\n",
    "    lr.fit(X_train[[feature]], y_train)\n",
    "    R_2.append(lr.score(X_test[[feature]],y_test))\n",
    "\n",
    "\n",
    "best=features[np.argmax(R_2)]\n",
    "\n",
    "plt.bar(features,R_2)\n",
    "plt.xticks(rotation=90)\n",
    "plt.ylabel(\"$R^2$\")\n",
    "\n",
    "plt.show()\n",
    "best=features[np.argmax(R_2)]\n",
    "print(best)\n",
    "\n",
    "```\n",
    "</details>\n"
   ]
  },
  {
   "cell_type": "markdown",
   "id": "e48288fd-6e00-42cf-b63b-efa77ff53a5f",
   "metadata": {},
   "source": [
    "# K Fold Cross Validation\n"
   ]
  },
  {
   "cell_type": "markdown",
   "id": "4a8264d3-cf3e-4f55-b0ca-5c9c07d464af",
   "metadata": {},
   "source": [
    "Cross-validation is a resampling procedure used to evaluate machine learning models on a limited data sample.\n",
    "\n",
    "The procedure has a single parameter called k that refers to the number of groups that a given data sample is to be split into. As such, the procedure is often called k-fold cross-validation. When a specific value for k is chosen, it may be used in place of k in the reference to the model, such as k=5 becoming 5-fold cross-validation, as shown in the Diagram below. In this case, we would use K-1 (or 4 folds) for testing a 1 fold for training. K-fold is also used for hyper-parameters selection that we will discuss later.\n"
   ]
  },
  {
   "cell_type": "markdown",
   "id": "2ef6c350-6b4a-4442-a156-94bd6ffdc857",
   "metadata": {},
   "source": [
    "<center>\n",
    "    <img src=\"https://cf-courses-data.s3.us.cloud-object-storage.appdomain.cloud/IBM-ML240EN-SkillsNetwork/images/k-fold.png\">\n",
    "</center>\n",
    "<center>source scikit-learn.org</center>\n"
   ]
  },
  {
   "cell_type": "markdown",
   "id": "45d1ae97-3498-497e-9004-752823de7d16",
   "metadata": {},
   "source": [
    "## Cross Validation Score\n"
   ]
  },
  {
   "cell_type": "markdown",
   "id": "b6fc11fd-7d57-43e5-9dd9-17bec4ef795a",
   "metadata": {},
   "source": [
    "Now, let's use *Scikit-Learn's* *K-fold cross-validation* method to see whether we can assess the performance of our model. The *K-fold cross-validation* method splits the training set into the number of folds (n_splits), as now in the Diagram above, if we have K folds, K-1 is used for training and one fold is used for testing. The input parameters are as follows:\n"
   ]
  },
  {
   "cell_type": "markdown",
   "id": "9271f233-eddb-47fb-8649-03b1ad93006a",
   "metadata": {},
   "source": [
    "<b>estimatorestimator</b>: The object to use to `fit` the data.\n",
    "\n",
    "<b>X</b>: array-like of shape (n_samples, n_features). The data to fit. Can be for example a list, or an array.\n",
    "\n",
    "<b>y</b>: array-like of shape (n_samples,) or (n_samples, n_outputs), default=None. The target variable to try to predict in the case of supervised learning.\n",
    "\n",
    "<b>scoring</b>: A str or a scorer callable object/ function with signature scorer (estimator, X, y) which should return only a single value.  See model evaluation [documentation](https://scikit-learn.org/stable/modules/model_evaluation.html?utm_medium=Exinfluencer&utm_source=Exinfluencer&utm_content=000026UJ&utm_term=10006555&utm_id=NA-SkillsNetwork-Channel-SkillsNetworkCoursesIBMML240ENSkillsNetwork34171862-2022-01-01#scoring-parameter) for more information.\n"
   ]
  },
  {
   "cell_type": "code",
   "execution_count": null,
   "id": "87c951e0-04e1-4160-9da1-f3625bce15ed",
   "metadata": {},
   "outputs": [],
   "source": [
    "N=len(X)\n",
    "N"
   ]
  },
  {
   "cell_type": "markdown",
   "id": "f2a42da2-6fd8-44b1-bc87-f3774c8c4945",
   "metadata": {},
   "source": [
    "Now, let's create a Linear Regression object.\n"
   ]
  },
  {
   "cell_type": "code",
   "execution_count": 30,
   "id": "6e71e149-ef3f-429c-83c8-8e893dabafa1",
   "metadata": {},
   "outputs": [],
   "source": [
    "lr = LinearRegression()"
   ]
  },
  {
   "cell_type": "markdown",
   "id": "b38a8c0c-a728-44fe-8969-fd5fd4e30a2e",
   "metadata": {},
   "source": [
    "Then, calculate cross validation scores based on our testing sets.\n"
   ]
  },
  {
   "cell_type": "code",
   "execution_count": 31,
   "id": "e5ba50f7-7747-417e-9a34-042db243fc65",
   "metadata": {},
   "outputs": [],
   "source": [
    "scores = cross_val_score(lr, X, y, scoring =\"r2\", cv=3)"
   ]
  },
  {
   "cell_type": "markdown",
   "id": "2c443ac1-b84e-4318-80a1-b6ff5e2cc4fd",
   "metadata": {},
   "source": [
    "Now, we have the $R^{2}$ for each fold not used to train the model.\n"
   ]
  },
  {
   "cell_type": "code",
   "execution_count": null,
   "id": "c0713380-bc91-4190-b8bb-b2a3113d011e",
   "metadata": {},
   "outputs": [],
   "source": [
    "scores "
   ]
  },
  {
   "cell_type": "markdown",
   "id": "67df6d8e-df4b-4490-aaf1-c71a6bba17e5",
   "metadata": {},
   "source": [
    "We can calculate mean and standard deviation using the following function of the `scores`:\n"
   ]
  },
  {
   "cell_type": "code",
   "execution_count": 33,
   "id": "d52bcaf3-be81-4cc9-942f-e653b1274920",
   "metadata": {},
   "outputs": [],
   "source": [
    "def display_scores(scores, print_=False):\n",
    "    \n",
    "    print(\"Scores:\", scores)\n",
    "    print(\"Mean:\", scores.mean())\n",
    "    print(\"Standard deviation:\", scores.std())\n"
   ]
  },
  {
   "cell_type": "code",
   "execution_count": null,
   "id": "2bae9ac6-27b6-423e-9933-71f36059835d",
   "metadata": {},
   "outputs": [],
   "source": [
    "display_scores(scores)"
   ]
  },
  {
   "cell_type": "markdown",
   "id": "4e7a5f10-3eb6-431a-b2f0-c466ed9ba083",
   "metadata": {},
   "source": [
    "The larger the fold, the better the model performance is, as we are using more samples for training; the variance also decreases.\n"
   ]
  },
  {
   "cell_type": "markdown",
   "id": "b8a97192-8a2e-46ad-be22-140ad461a94e",
   "metadata": {},
   "source": [
    "Cross Validation Scores are RMSE values for training the data on each of our folds, in our case cv = 3, so we get 3 scores, 1 for each fold.\n"
   ]
  },
  {
   "cell_type": "markdown",
   "id": "d8a4eb8a-c1d3-4570-985f-d13d30d07572",
   "metadata": {},
   "source": [
    "## Exercise 3\n",
    "\n",
    "In this Exercise, compute the cross validation scores for 5 folds, using the linear regression object `lr` and `neg_mean_squared_error` method for scoring.\n"
   ]
  },
  {
   "cell_type": "code",
   "execution_count": null,
   "id": "009ea886-391b-4478-b791-02c5f956002b",
   "metadata": {},
   "outputs": [],
   "source": [
    "# Enter your code and run the cell\n",
    "scores = cross_val_score(lr, X ,y, scoring =\"neg_mean_squared_error\", cv=5)\n",
    "lr_scores = np.sqrt(-scores)\n",
    "display_scores(lr_scores)"
   ]
  },
  {
   "cell_type": "markdown",
   "id": "77c7cca4-8072-4fcf-b076-62973600db29",
   "metadata": {},
   "source": [
    "<details>\n",
    "<summary><strong>Solution</strong> (Click Here)</summary>\n",
    "```python\n",
    "\n",
    "scores = cross_val_score(lr, X ,y, scoring =\"neg_mean_squared_error\", cv=5)\n",
    "lr_scores = np.sqrt(-scores)\n",
    "display_scores(lr_scores)\n",
    "\n",
    "```\n",
    "</details>\n"
   ]
  },
  {
   "cell_type": "markdown",
   "id": "c7b26d9d-a490-47f3-a03b-a3e456e9cb5d",
   "metadata": {},
   "source": [
    "### K Fold\n"
   ]
  },
  {
   "cell_type": "markdown",
   "id": "013fad13-e8f5-49e9-8a3e-e4482dd8cbec",
   "metadata": {},
   "source": [
    "In many cases, we would like to train models that are not available in Scikit-learn or are too large to fit in the memory. We can create a `KFold` object that  Provides train/test indices to split data into train/test sets in an iterative manner.\n",
    "\n",
    "`n_splitsint`:  A number of folds. Must be at least 2. Changed in version 0.22: n_splits default value changed from 3 to 5.\n",
    "\n",
    "`shuffle`: Indicates whether to shuffle the data before splitting into batches. Note, the samples within each split will not be shuffled.\n",
    "\n",
    "`random_state`: the random state.\n"
   ]
  },
  {
   "cell_type": "markdown",
   "id": "4b166f2a-0fbd-42a2-939f-7de5fb55372e",
   "metadata": {},
   "source": [
    "We create the  `KFold` object `kf`, setting the number of splits to 2.\n"
   ]
  },
  {
   "cell_type": "code",
   "execution_count": 36,
   "id": "9efcc46f-d7fd-4eb9-99d6-40e58b1b6dac",
   "metadata": {},
   "outputs": [],
   "source": [
    "n_splits=2\n",
    "kf = KFold(n_splits = n_splits)"
   ]
  },
  {
   "cell_type": "markdown",
   "id": "864d82f9-709e-49d4-b4eb-a04d53751545",
   "metadata": {},
   "source": [
    "We train the model using the `split(X,y)` method. It provides the train/test indices for `X` and `y`. Half the data is used for training in the first iteration, and the rest is used for testing and displaying the indexes for each set.  For the second iteration, the data used for training is used for testing, and the testing data is used for training. We store the $R^2$ for each iteration in the array  `R_2`. The `np.zeros()` function returns a new array of given shape and type, filled with zeros. Then, we calculate the $R^2$ for each of the X_train and X_test splits.\n"
   ]
  },
  {
   "cell_type": "code",
   "execution_count": null,
   "id": "dcb0f816-4899-463c-b95b-38753fe0b97f",
   "metadata": {},
   "outputs": [],
   "source": [
    "y = data['price'].copy()\n",
    "X = data.drop(columns=['price'])\n",
    "R_2 = np.zeros((n_splits,1))\n",
    "pipe = Pipeline([('ss',StandardScaler() ),('lr', LinearRegression())])\n",
    "n=0\n",
    "for k,(train_index, test_index) in enumerate(kf.split(X,y)):\n",
    "    print(\"TRAIN:\", train_index)\n",
    "    print(\"TEST:\", test_index)\n",
    "X_train, X_test =X.iloc[train_index],X.iloc[test_index]\n",
    "    \n",
    "y_train, y_test=y[train_index],y[test_index]\n",
    "pipe.fit(X_train,y_train)\n",
    "n=+1\n",
    "R_2[k]=pipe.score(X_test, y_test)"
   ]
  },
  {
   "cell_type": "markdown",
   "id": "e223e797-c998-496c-a471-219b0bd8f77c",
   "metadata": {},
   "source": [
    "We can calculate the average $R^2$.\n"
   ]
  },
  {
   "cell_type": "code",
   "execution_count": null,
   "id": "5abb2450-3bc7-4e86-a58a-7c4c498cfbbf",
   "metadata": {},
   "outputs": [],
   "source": [
    "R_2.mean()"
   ]
  },
  {
   "cell_type": "markdown",
   "id": "572bb6ea-cfb7-4c93-bf20-88a060ea3778",
   "metadata": {},
   "source": [
    "If we set the number of splits to three, we see 2/3's of the data is used for training.\n"
   ]
  },
  {
   "cell_type": "code",
   "execution_count": null,
   "id": "dc587246-5a60-4fed-81fc-1f519cd48e76",
   "metadata": {},
   "outputs": [],
   "source": [
    "n_splits=3\n",
    "kf = KFold(n_splits = n_splits)\n",
    "y = data['price'].copy()\n",
    "X = data.drop(columns=['price'])\n",
    "R_2=np.zeros((n_splits,1))\n",
    "pipe = Pipeline([('ss',StandardScaler() ),('lr', LinearRegression())])\n",
    "n=0\n",
    "for k,(train_index, test_index) in enumerate(kf.split(X,y)):\n",
    "    print(\"TRAIN:\", train_index)\n",
    "    print(\"TEST:\", test_index)\n",
    "    \n",
    "X_train, X_test =X.iloc[train_index],X.iloc[test_index]\n",
    "    \n",
    "y_train, y_test=y[train_index],y[test_index]\n",
    "pipe.fit(X_train,y_train)\n",
    "n=+1\n",
    "R_2[k]=pipe.score(X_test, y_test)\n",
    "    \n",
    "    \n",
    "R_2.mean()"
   ]
  },
  {
   "cell_type": "markdown",
   "id": "1db670f8-5bcf-4b10-90f2-269798ed4f18",
   "metadata": {},
   "source": [
    "## Exercise 4\n",
    "\n",
    "It many applications, it is useful to randomly select samples for K fold cross validation. In this Exercise, randomly select samples by setting `shuffle` to `True` in the `KFold` constructor. Use all the parameters, as above.\n"
   ]
  },
  {
   "cell_type": "code",
   "execution_count": null,
   "id": "751b182d-0366-4764-b7f2-4955d40c0f39",
   "metadata": {},
   "outputs": [],
   "source": [
    "# Enter your code and run the cell\n",
    "n_splits=3\n",
    "kf = KFold(n_splits = n_splits,shuffle=True)\n",
    "y = data['price'].copy()\n",
    "X = data.drop(columns=['price'])\n",
    "R_2=np.zeros((n_splits,1))\n",
    "pipe = Pipeline([('ss',StandardScaler() ),('lr', LinearRegression())])\n",
    "n=0\n",
    "for k,(train_index, test_index) in enumerate(kf.split(X,y)):\n",
    "    print(\"TRAIN:\", train_index)\n",
    "    print(\"TEST:\", test_index)\n",
    "\n",
    "X_train, X_test =X.iloc[train_index],X.iloc[test_index]\n",
    "\n",
    "\n",
    "y_train, y_test=y[train_index],y[test_index]\n",
    "pipe.fit(X_train,y_train)\n",
    "n=+1\n",
    "R_2[k]=pipe.score(X_test, y_test)\n",
    "\n",
    "\n",
    "R_2.mean()"
   ]
  },
  {
   "cell_type": "markdown",
   "id": "0d3e3572-9b4b-4183-b81c-ea33d9c921d6",
   "metadata": {},
   "source": [
    "<details>\n",
    "<summary><strong>Solution</strong> (Click Here)</summary>\n",
    "```python\n",
    "\n",
    "n_splits=3\n",
    "kf = KFold(n_splits = n_splits,shuffle=True)\n",
    "y = data['price'].copy()\n",
    "X = data.drop(columns=['price'])\n",
    "R_2=np.zeros((n_splits,1))\n",
    "pipe = Pipeline([('ss',StandardScaler() ),('lr', LinearRegression())])\n",
    "n=0\n",
    "for k,(train_index, test_index) in enumerate(kf.split(X,y)):\n",
    "    print(\"TRAIN:\", train_index)\n",
    "    print(\"TEST:\", test_index)\n",
    "\n",
    "X_train, X_test =X.iloc[train_index],X.iloc[test_index]\n",
    "\n",
    "\n",
    "y_train, y_test=y[train_index],y[test_index]\n",
    "pipe.fit(X_train,y_train)\n",
    "n=+1\n",
    "R_2[k]=pipe.score(X_test, y_test)\n",
    "\n",
    "\n",
    "R_2.mean()\n",
    "\n",
    "```\n",
    "</details>\n"
   ]
  },
  {
   "cell_type": "markdown",
   "id": "ec0d132c-ac6d-4f9c-969d-29e9f2058b4f",
   "metadata": {},
   "source": [
    "In the Regularization lab, we will learn how to use cross validation to select hyper-parameters.\n"
   ]
  },
  {
   "cell_type": "markdown",
   "id": "34b97959-940d-453b-812a-79115997298f",
   "metadata": {},
   "source": [
    "# Congratulations! - You have completed the lab\n"
   ]
  },
  {
   "cell_type": "markdown",
   "id": "8a7269d2-aa51-420d-a3f7-53f356ae7267",
   "metadata": {},
   "source": [
    "## Authors\n"
   ]
  },
  {
   "cell_type": "markdown",
   "id": "dc30ae7a-aced-4635-a66b-73ce8d163056",
   "metadata": {},
   "source": [
    "<a href=\"https://www.linkedin.com/in/joseph-s-50398b136/?utm_medium=Exinfluencer&utm_source=Exinfluencer&utm_content=000026UJ&utm_term=10006555&utm_id=NA-SkillsNetwork-Channel-SkillsNetworkCoursesIBMDeveloperSkillsNetworkML0101ENSkillsNetwork20718538-2021-01-01\" target=\"_blank\">Joseph Santarcangelo</a>\n",
    "\n",
    "[Svitlana Kramar](https://www.linkedin.com/in/svitlana-kramar?utm_medium=Exinfluencer&utm_source=Exinfluencer&utm_content=000026UJ&utm_term=10006555&utm_id=NA-SkillsNetwork-Channel-SkillsNetworkCoursesIBMML240ENSkillsNetwork34171862-2022-01-01)\n"
   ]
  },
  {
   "cell_type": "markdown",
   "id": "97d4d764-d6e8-4cf8-9da6-f8be84f15411",
   "metadata": {},
   "source": [
    "<!--## Change Log\n",
    "-->\n"
   ]
  },
  {
   "cell_type": "markdown",
   "id": "d650acc6-d1c6-4775-a71f-4aa9fe73437b",
   "metadata": {},
   "source": [
    "<!--| Date (YYYY-MM-DD) | Version | Changed By  | Change Description             |\n",
    "| ----------------- | ------- | ----------- | ------------------------------ |\n",
    "| 2022-03-25        | 0.1     | Joseph S.   | Updated all content            |\n",
    "| 2022-04-26        | 0.1     | Svitlana K. | Corrected minor grammar errors |-->\n"
   ]
  }
 ],
 "metadata": {
  "kernelspec": {
   "display_name": ".venv",
   "language": "python",
   "name": "python3"
  },
  "language_info": {
   "codemirror_mode": {
    "name": "ipython",
    "version": 3
   },
   "file_extension": ".py",
   "mimetype": "text/x-python",
   "name": "python",
   "nbconvert_exporter": "python",
   "pygments_lexer": "ipython3",
   "version": "3.13.1"
  },
  "prev_pub_hash": "88d9df5a917482e6a506d3414cad8bb70d9ea3752e6f8fe042091022418a7f9e"
 },
 "nbformat": 4,
 "nbformat_minor": 4
}
