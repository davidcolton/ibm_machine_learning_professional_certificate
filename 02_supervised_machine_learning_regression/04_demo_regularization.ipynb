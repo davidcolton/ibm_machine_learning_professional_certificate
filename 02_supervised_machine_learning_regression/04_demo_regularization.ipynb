{
 "cells": [
  {
   "cell_type": "markdown",
   "id": "44a7ebc0-394c-4600-aba4-0423654d7f50",
   "metadata": {},
   "source": [
    "# Machine Learning Foundation\n",
    "\n",
    "## Section 2, Part d:  Regularization and Gradient Descent\n"
   ]
  },
  {
   "cell_type": "markdown",
   "id": "51d1069c-4ae2-4dd5-893b-402e9ddcd5ae",
   "metadata": {},
   "source": [
    "## Introduction\n",
    "\n",
    "We will begin with a short tutorial on regression, polynomial features, and regularization based on a very simple, sparse data set that contains a column of `x` data and associated `y` noisy data. The data file is called `X_Y_Sinusoid_Data.csv`.\n"
   ]
  },
  {
   "cell_type": "markdown",
   "id": "8e96a68e-a8cd-41a8-a7f7-b87004525a47",
   "metadata": {},
   "source": [
    "## Question 1\n",
    "\n",
    "*   Import the data.\n",
    "\n",
    "*   Also generate approximately 100 equally spaced x data points over the range of 0 to 1. Using these points, calculate the y-data which represents the \"ground truth\" (the real function) from the equation: $y = sin(2\\pi x)$\n",
    "\n",
    "*   Plot the sparse data (`x` vs `y`) and the calculated (\"real\") data.\n"
   ]
  },
  {
   "cell_type": "code",
   "execution_count": 1,
   "metadata": {},
   "outputs": [],
   "source": [
    "import jupyter_black\n",
    "\n",
    "jupyter_black.load()"
   ]
  },
  {
   "cell_type": "code",
   "execution_count": 2,
   "id": "e6974135-90d0-4319-9b0e-c6f2a5de9a5c",
   "metadata": {},
   "outputs": [],
   "source": [
    "# Surpress warnings from using older version of sklearn:\n",
    "def warn(*args, **kwargs):\n",
    "    pass\n",
    "\n",
    "\n",
    "import warnings\n",
    "\n",
    "warnings.warn = warn"
   ]
  },
  {
   "cell_type": "code",
   "execution_count": 3,
   "id": "45b11652-efd1-4e3b-834a-19d0fa8f573b",
   "metadata": {},
   "outputs": [],
   "source": [
    "import pandas as pd\n",
    "import numpy as np\n",
    "\n",
    "\n",
    "# data = pd.read_csv(\"https://cf-courses-data.s3.us.cloud-object-storage.appdomain.cloud/IBM-ML240EN-SkillsNetwork/labs/data/X_Y_Sinusoid_Data.csv\")\n",
    "data = pd.read_csv(\"./data/X_Y_Sinusoid_Data.csv\")\n",
    "data.head()\n",
    "\n",
    "X_real = np.linspace(0, 1.0, 100)\n",
    "Y_real = np.sin(2 * np.pi * X_real)"
   ]
  },
  {
   "cell_type": "code",
   "execution_count": 4,
   "id": "bd06e588-c603-453a-ae42-07da59409938",
   "metadata": {},
   "outputs": [],
   "source": [
    "import matplotlib.pyplot as plt\n",
    "import seaborn as sns\n",
    "\n",
    "%matplotlib inline"
   ]
  },
  {
   "cell_type": "code",
   "execution_count": null,
   "id": "d4ab4fa2-167a-4154-bf35-bb1812f37a30",
   "metadata": {},
   "outputs": [],
   "source": [
    "sns.set_style(\"white\")\n",
    "sns.set_context(\"talk\")\n",
    "sns.set_palette(\"dark\")\n",
    "\n",
    "# Plot of the noisy (sparse)\n",
    "ax = data.set_index(\"x\")[\"y\"].plot(ls=\"\", marker=\"o\", label=\"data\")\n",
    "ax.plot(X_real, Y_real, ls=\"--\", marker=\"\", label=\"real function\")\n",
    "\n",
    "ax.legend()\n",
    "ax.set(xlabel=\"x data\", ylabel=\"y data\");"
   ]
  },
  {
   "cell_type": "markdown",
   "id": "7d9d96a3-dc24-47e9-843a-fdfa2b5cada4",
   "metadata": {},
   "source": [
    "## Question 2\n",
    "\n",
    "*   Using the `PolynomialFeatures` class from Scikit-learn's preprocessing library, create 20th order polynomial features.\n",
    "*   Fit this data using linear regression.\n",
    "*   Plot the resulting predicted value compared to the calculated data.\n",
    "\n",
    "Note that `PolynomialFeatures` requires either a dataframe (with one column, not a Series) or a 2D array of dimension (`X`, 1), where `X` is the length.\n"
   ]
  },
  {
   "cell_type": "code",
   "execution_count": null,
   "id": "f943df8a-fbdb-4c58-b381-4f2bd8f60238",
   "metadata": {},
   "outputs": [],
   "source": [
    "from sklearn.preprocessing import PolynomialFeatures\n",
    "from sklearn.linear_model import LinearRegression\n",
    "\n",
    "# Setup the polynomial features\n",
    "degree = 20\n",
    "pf = PolynomialFeatures(degree)\n",
    "lr = LinearRegression()\n",
    "\n",
    "# Extract the X- and Y- data from the dataframe\n",
    "X_data = data[[\"x\"]]\n",
    "Y_data = data[\"y\"]\n",
    "\n",
    "# Create the features and fit the model\n",
    "X_poly = pf.fit_transform(X_data)\n",
    "lr = lr.fit(X_poly, Y_data)\n",
    "Y_pred = lr.predict(X_poly)\n",
    "\n",
    "# Plot the result\n",
    "plt.plot(X_data, Y_data, marker=\"o\", ls=\"\", label=\"data\", alpha=1)\n",
    "plt.plot(X_real, Y_real, ls=\"--\", label=\"real function\")\n",
    "plt.plot(\n",
    "    X_data, Y_pred, marker=\"^\", alpha=0.5, label=\"predictions w/ polynomial features\"\n",
    ")\n",
    "plt.legend()\n",
    "ax = plt.gca()\n",
    "ax.set(xlabel=\"x data\", ylabel=\"y data\");"
   ]
  },
  {
   "cell_type": "markdown",
   "id": "423ad131-b934-4c5d-b6eb-54ae9f6f8fbe",
   "metadata": {},
   "source": [
    "## Question 3\n",
    "\n",
    "*   Perform the regression on using the data with polynomial features using ridge regression ($\\alpha$=0.001) and lasso regression ($\\alpha$=0.0001).\n",
    "*   Plot the results, as was done in Question 1.\n",
    "*   Also plot the magnitude of the coefficients obtained from these regressions, and compare them to those obtained from linear regression in the previous question. The linear regression coefficients will likely need a separate plot (or their own y-axis) due to their large magnitude.\n",
    "\n",
    "What does the comparatively large magnitude of the data tell you about the role of regularization?\n"
   ]
  },
  {
   "cell_type": "code",
   "execution_count": null,
   "id": "04fa392f-bea8-44e0-b0b3-e0dac2b799bc",
   "metadata": {},
   "outputs": [],
   "source": [
    "# Mute the sklearn warning about regularization\n",
    "import warnings\n",
    "\n",
    "warnings.filterwarnings(\"ignore\", module=\"sklearn\")\n",
    "\n",
    "from sklearn.linear_model import Ridge, Lasso\n",
    "\n",
    "# The ridge regression model\n",
    "rr = Ridge(alpha=0.001)\n",
    "rr = rr.fit(X_poly, Y_data)\n",
    "Y_pred_rr = rr.predict(X_poly)\n",
    "\n",
    "# The lasso regression model\n",
    "lassor = Lasso(alpha=0.0001)\n",
    "lassor = lassor.fit(X_poly, Y_data)\n",
    "Y_pred_lr = lassor.predict(X_poly)\n",
    "\n",
    "# The plot of the predicted values\n",
    "plt.plot(X_data, Y_data, marker=\"o\", ls=\"\", label=\"data\")\n",
    "plt.plot(X_real, Y_real, ls=\"--\", label=\"real function\")\n",
    "plt.plot(X_data, Y_pred, label=\"linear regression\", marker=\"^\", alpha=0.5)\n",
    "plt.plot(X_data, Y_pred_rr, label=\"ridge regression\", marker=\"^\", alpha=0.5)\n",
    "plt.plot(X_data, Y_pred_lr, label=\"lasso regression\", marker=\"^\", alpha=0.5)\n",
    "\n",
    "plt.legend()\n",
    "\n",
    "ax = plt.gca()\n",
    "ax.set(xlabel=\"x data\", ylabel=\"y data\");"
   ]
  },
  {
   "cell_type": "code",
   "execution_count": null,
   "id": "760c19ed-e8a4-4bfe-83a1-ee046a5c1eff",
   "metadata": {},
   "outputs": [],
   "source": [
    "# let's look at the absolute value of coefficients for each model\n",
    "\n",
    "coefficients = pd.DataFrame()\n",
    "coefficients[\"linear regression\"] = lr.coef_.ravel()\n",
    "coefficients[\"ridge regression\"] = rr.coef_.ravel()\n",
    "coefficients[\"lasso regression\"] = lassor.coef_.ravel()\n",
    "coefficients = coefficients.applymap(abs)\n",
    "\n",
    "coefficients.describe()  # Huge difference in scale between non-regularized vs regularized regression"
   ]
  },
  {
   "cell_type": "code",
   "execution_count": null,
   "id": "3cc56bac-eb3f-4bb1-ad25-3e8bbb6b9e5e",
   "metadata": {},
   "outputs": [],
   "source": [
    "colors = sns.color_palette()\n",
    "\n",
    "# Setup the dual y-axes\n",
    "ax1 = plt.axes()\n",
    "ax2 = ax1.twinx()\n",
    "\n",
    "# Plot the linear regression data\n",
    "ax1.plot(lr.coef_.ravel(), color=colors[0], marker=\"o\", label=\"linear regression\")\n",
    "\n",
    "# Plot the regularization data sets\n",
    "ax2.plot(rr.coef_.ravel(), color=colors[1], marker=\"o\", label=\"ridge regression\")\n",
    "\n",
    "ax2.plot(lassor.coef_.ravel(), color=colors[2], marker=\"o\", label=\"lasso regression\")\n",
    "\n",
    "# Customize axes scales\n",
    "ax1.set_ylim(-2e14, 2e14)\n",
    "ax2.set_ylim(-25, 25)\n",
    "\n",
    "# Combine the legends\n",
    "h1, l1 = ax1.get_legend_handles_labels()\n",
    "h2, l2 = ax2.get_legend_handles_labels()\n",
    "ax1.legend(h1 + h2, l1 + l2)\n",
    "\n",
    "ax1.set(xlabel=\"coefficients\", ylabel=\"linear regression\")\n",
    "ax2.set(ylabel=\"ridge and lasso regression\")\n",
    "\n",
    "ax1.set_xticks(range(len(lr.coef_)));"
   ]
  },
  {
   "cell_type": "markdown",
   "id": "d729082c-45ad-4875-8598-3f09c6ccb2d4",
   "metadata": {},
   "source": [
    "## Question 4\n",
    "\n",
    "For the remaining questions, we will be working with the [data set](https://www.kaggle.com/c/house-prices-advanced-regression-techniques?utm_medium=Exinfluencer&utm_source=Exinfluencer&utm_content=000026UJ&utm_term=10006555&utm_id=NA-SkillsNetwork-Channel-SkillsNetworkCoursesIBMML240ENSkillsNetwork34171862-2022-01-01) from last lesson, which is based on housing prices in Ames, Iowa. There are an extensive number of features--see the exercises from week three for a discussion of these features.\n",
    "\n",
    "To begin:\n",
    "\n",
    "*   Import the data with Pandas, remove any null values, and one hot encode categoricals. Either Scikit-learn's feature encoders or Pandas `get_dummies` method can be used.\n",
    "*   Split the data into train and test sets.\n",
    "*   Log transform skewed features.\n",
    "*   Scaling can be attempted, although it can be interesting to see how well regularization works without scaling features.\n"
   ]
  },
  {
   "cell_type": "code",
   "execution_count": null,
   "id": "78ff7108-e1ab-4f61-ac43-be233ab89d22",
   "metadata": {},
   "outputs": [],
   "source": [
    "# data = pd.read_csv(\"https://cf-courses-data.s3.us.cloud-object-storage.appdomain.cloud/IBM-ML240EN-SkillsNetwork/labs/data/Ames_Housing_Sales.csv\")\n",
    "data = pd.read_csv(\"./data/Ames_Housing_Sales.csv\")\n",
    "data.head(10)"
   ]
  },
  {
   "cell_type": "markdown",
   "id": "c9685316-be9e-4aa5-a58f-1af3dc75e559",
   "metadata": {},
   "source": [
    "Create a list of categorial data and one-hot encode. Pandas one-hot encoder (`get_dummies`) works well with data that is defined as a categorical.\n"
   ]
  },
  {
   "cell_type": "code",
   "execution_count": null,
   "id": "8ea227ce-7c7a-483e-a78f-54786b65d4f1",
   "metadata": {},
   "outputs": [],
   "source": [
    "data = pd.get_dummies(data, drop_first=True)\n",
    "data.columns"
   ]
  },
  {
   "cell_type": "markdown",
   "id": "538df95e-f343-4239-99c7-d5beaee96ab9",
   "metadata": {},
   "source": [
    "Next, split the data in train and test data sets.\n"
   ]
  },
  {
   "cell_type": "code",
   "execution_count": 12,
   "id": "06a23a66-f89f-45b0-aae4-f4ad4d043751",
   "metadata": {},
   "outputs": [],
   "source": [
    "from sklearn.model_selection import train_test_split\n",
    "\n",
    "train, test = train_test_split(data, test_size=0.3, random_state=42)"
   ]
  },
  {
   "cell_type": "markdown",
   "id": "466cf696-3e5d-4660-94b1-036392fa0e13",
   "metadata": {},
   "source": [
    "There are a number of columns that have skewed features--a log transformation can be applied to them. Note that this includes the `SalePrice`, our predictor. However, let's keep that one as is.\n"
   ]
  },
  {
   "cell_type": "code",
   "execution_count": 13,
   "id": "1eecfb68-14b3-4ee6-8ffe-2d6f7a054c98",
   "metadata": {},
   "outputs": [],
   "source": [
    "# Create a list of float colums to check for skewing\n",
    "mask = data.dtypes == float\n",
    "float_cols = data.columns[mask]"
   ]
  },
  {
   "cell_type": "code",
   "execution_count": null,
   "id": "f3b79538-d5de-4e91-935b-14df6dd87e08",
   "metadata": {},
   "outputs": [],
   "source": [
    "skew_limit = 0.75\n",
    "skew_vals = train[float_cols].skew()\n",
    "\n",
    "skew_cols = (\n",
    "    skew_vals.sort_values(ascending=False)\n",
    "    .to_frame()\n",
    "    .rename(columns={0: \"Skew\"})\n",
    "    .query(\"abs(Skew) > {0}\".format(skew_limit))\n",
    ")\n",
    "\n",
    "skew_cols"
   ]
  },
  {
   "cell_type": "markdown",
   "id": "9ee7f761-ebec-47c5-9c24-cdbf3ca9a1a0",
   "metadata": {},
   "source": [
    "Transform all the columns where the skew is greater than 0.75, excluding \"SalePrice\".\n"
   ]
  },
  {
   "cell_type": "code",
   "execution_count": null,
   "id": "dfff7a96-9b60-4726-8a69-903bf85f4415",
   "metadata": {},
   "outputs": [],
   "source": [
    "# OPTIONAL: Let's look at what happens to one of these features, when we apply np.log1p visually.\n",
    "\n",
    "field = \"BsmtFinSF1\"\n",
    "fig, (ax_before, ax_after) = plt.subplots(1, 2, figsize=(10, 5))\n",
    "train[field].hist(ax=ax_before)\n",
    "train[field].apply(np.log1p).hist(ax=ax_after)\n",
    "ax_before.set(title=\"before np.log1p\", ylabel=\"frequency\", xlabel=\"value\")\n",
    "ax_after.set(title=\"after np.log1p\", ylabel=\"frequency\", xlabel=\"value\")\n",
    "fig.suptitle('Field \"{}\"'.format(field));\n",
    "# a little bit better"
   ]
  },
  {
   "cell_type": "code",
   "execution_count": 16,
   "id": "58105d4c-d8f6-4958-a130-1db7dff1240d",
   "metadata": {},
   "outputs": [],
   "source": [
    "# Mute the setting wtih a copy warnings\n",
    "pd.options.mode.chained_assignment = None\n",
    "\n",
    "for col in skew_cols.index.tolist():\n",
    "    if col == \"SalePrice\":\n",
    "        continue\n",
    "    train[col] = np.log1p(train[col])\n",
    "    test[col] = test[col].apply(np.log1p)  # same thing"
   ]
  },
  {
   "cell_type": "markdown",
   "id": "14e40aed-ddc0-4096-8359-2d44a56b5102",
   "metadata": {},
   "source": [
    "Separate features from predictor.\n"
   ]
  },
  {
   "cell_type": "code",
   "execution_count": 17,
   "id": "faf24b14-f624-41b1-9914-bc92a89727b7",
   "metadata": {},
   "outputs": [],
   "source": [
    "feature_cols = [x for x in train.columns if x != \"SalePrice\"]\n",
    "X_train = train[feature_cols]\n",
    "y_train = train[\"SalePrice\"]\n",
    "\n",
    "X_test = test[feature_cols]\n",
    "y_test = test[\"SalePrice\"]"
   ]
  },
  {
   "cell_type": "markdown",
   "id": "115e643a-9acd-48d9-a874-292a114f2466",
   "metadata": {},
   "source": [
    "## Question 5\n",
    "\n",
    "*   Write a function **`rmse`** that takes in truth and prediction values and returns the root-mean-squared error. Use sklearn's `mean_squared_error`.\n"
   ]
  },
  {
   "cell_type": "code",
   "execution_count": 18,
   "id": "c02e6ed2-5844-46a4-8c9f-d83317a203b0",
   "metadata": {},
   "outputs": [],
   "source": [
    "from sklearn.metrics import mean_squared_error\n",
    "\n",
    "\n",
    "def rmse(ytrue, ypredicted):\n",
    "    return np.sqrt(mean_squared_error(ytrue, ypredicted))"
   ]
  },
  {
   "cell_type": "markdown",
   "id": "dbb8acfb-d230-43f9-89be-384722f187c8",
   "metadata": {},
   "source": [
    "*   Fit a basic linear regression model\n",
    "*   print the root-mean-squared error for this model\n",
    "*   plot the predicted vs actual sale price based on the model.\n"
   ]
  },
  {
   "cell_type": "code",
   "execution_count": null,
   "id": "e973a801-589a-4154-99b5-7ecd4824f443",
   "metadata": {},
   "outputs": [],
   "source": [
    "from sklearn.linear_model import LinearRegression\n",
    "\n",
    "linearRegression = LinearRegression().fit(X_train, y_train)\n",
    "\n",
    "linearRegression_rmse = rmse(y_test, linearRegression.predict(X_test))\n",
    "\n",
    "print(linearRegression_rmse)"
   ]
  },
  {
   "cell_type": "code",
   "execution_count": null,
   "id": "3b09d4f4-5cdc-44a8-855e-e840964aa468",
   "metadata": {},
   "outputs": [],
   "source": [
    "f = plt.figure(figsize=(6, 6))\n",
    "ax = plt.axes()\n",
    "\n",
    "ax.plot(y_test, linearRegression.predict(X_test), marker=\"o\", ls=\"\", ms=3.0)\n",
    "\n",
    "lim = (0, y_test.max())\n",
    "\n",
    "ax.set(\n",
    "    xlabel=\"Actual Price\",\n",
    "    ylabel=\"Predicted Price\",\n",
    "    xlim=lim,\n",
    "    ylim=lim,\n",
    "    title=\"Linear Regression Results\",\n",
    ");"
   ]
  },
  {
   "cell_type": "markdown",
   "id": "a02a0eab-5fbf-4eb8-82ec-c55ab368a7b2",
   "metadata": {},
   "source": [
    "## Question 6\n",
    "\n",
    "Ridge regression uses L2 normalization to reduce the magnitude of the coefficients. This can be helpful in situations where there is high variance. The regularization functions in Scikit-learn each contain versions that have cross-validation built in.\n",
    "\n",
    "*   Fit a regular (non-cross validated) Ridge model to a range of $\\alpha$ values and plot the RMSE using the cross validated error function you created above.\n",
    "*   Use $$[0.005, 0.05, 0.1, 0.3, 1, 3, 5, 10, 15, 30, 80]$$ as the range of alphas.\n",
    "*   Then repeat the fitting of the Ridge models using the range of $\\alpha$ values from the prior section. Compare the results.\n"
   ]
  },
  {
   "cell_type": "markdown",
   "id": "12ea85e6-941c-4066-8347-2576e7fd46a7",
   "metadata": {},
   "source": [
    "Now for the `RidgeCV` method. It's not possible to get the alpha values for the models that weren't selected, unfortunately. The resulting error values and $\\alpha$ values are very similar to those obtained above.\n"
   ]
  },
  {
   "cell_type": "code",
   "execution_count": null,
   "id": "e9716ab6-c94a-4d6b-a673-dde05bf49b13",
   "metadata": {},
   "outputs": [],
   "source": [
    "from sklearn.linear_model import RidgeCV\n",
    "\n",
    "alphas = [0.005, 0.05, 0.1, 0.3, 1, 3, 5, 10, 15, 30, 80]\n",
    "\n",
    "ridgeCV = RidgeCV(alphas=alphas, cv=4).fit(X_train, y_train)\n",
    "\n",
    "ridgeCV_rmse = rmse(y_test, ridgeCV.predict(X_test))\n",
    "\n",
    "print(ridgeCV.alpha_, ridgeCV_rmse)"
   ]
  },
  {
   "cell_type": "markdown",
   "id": "f209fc65-3735-49be-b77b-e2165effff0d",
   "metadata": {},
   "source": [
    "## Question 7\n",
    "\n",
    "Much like the `RidgeCV` function, there is also a `LassoCV` function that uses an L1 regularization function and cross-validation. L1 regularization will selectively shrink some coefficients, effectively performing feature elimination.\n",
    "\n",
    "The `LassoCV` function does not allow the scoring function to be set. However, the custom error function (`rmse`) created above can be used to evaluate the error on the final model.\n",
    "\n",
    "Similarly, there is also an elastic net function with cross validation, `ElasticNetCV`, which is a combination of L2 and L1 regularization.\n",
    "\n",
    "*   Fit a Lasso model using cross validation and determine the optimum value for $\\alpha$ and the RMSE using the function created above. Note that the magnitude of $\\alpha$ may be different from the Ridge model.\n",
    "*   Repeat this with the Elastic net model.\n",
    "*   Compare the results via table and/or plot.\n",
    "\n",
    "Use the following alphas:\\\n",
    "`[1e-5, 5e-5, 0.0001, 0.0005]`\n"
   ]
  },
  {
   "cell_type": "code",
   "execution_count": null,
   "id": "66cf8d40-8946-49c6-83d0-cb8506610cce",
   "metadata": {},
   "outputs": [],
   "source": [
    "from sklearn.linear_model import LassoCV\n",
    "\n",
    "alphas2 = np.array([1e-5, 5e-5, 0.0001, 0.0005])\n",
    "\n",
    "lassoCV = LassoCV(alphas=alphas2, max_iter=int(5e4), cv=3).fit(X_train, y_train)\n",
    "\n",
    "lassoCV_rmse = rmse(y_test, lassoCV.predict(X_test))\n",
    "\n",
    "print(lassoCV.alpha_, lassoCV_rmse)  # Lasso is slower"
   ]
  },
  {
   "cell_type": "markdown",
   "id": "ee1cdf20-c35b-4581-865f-ba485106df37",
   "metadata": {},
   "source": [
    "We can determine how many of these features remain non-zero.\n"
   ]
  },
  {
   "cell_type": "code",
   "execution_count": null,
   "id": "bb65c02e-fbd3-41f6-8261-af8524753a92",
   "metadata": {},
   "outputs": [],
   "source": [
    "print(\n",
    "    \"Of {} coefficients, {} are non-zero with Lasso.\".format(\n",
    "        len(lassoCV.coef_), len(lassoCV.coef_.nonzero()[0])\n",
    "    )\n",
    ")"
   ]
  },
  {
   "cell_type": "markdown",
   "id": "a5d66b75-9271-4656-915d-470e533e9ae5",
   "metadata": {},
   "source": [
    "Now try the elastic net, with the same alphas as in Lasso, and l1\\_ratios between 0.1 and 0.9\n"
   ]
  },
  {
   "cell_type": "code",
   "execution_count": null,
   "id": "db20e6e9-7fbe-4790-942a-1881730770cd",
   "metadata": {},
   "outputs": [],
   "source": [
    "from sklearn.linear_model import ElasticNetCV\n",
    "\n",
    "l1_ratios = np.linspace(0.1, 0.9, 9)\n",
    "\n",
    "elasticNetCV = ElasticNetCV(alphas=alphas2, l1_ratio=l1_ratios, max_iter=int(1e4)).fit(\n",
    "    X_train, y_train\n",
    ")\n",
    "elasticNetCV_rmse = rmse(y_test, elasticNetCV.predict(X_test))\n",
    "\n",
    "print(elasticNetCV.alpha_, elasticNetCV.l1_ratio_, elasticNetCV_rmse)"
   ]
  },
  {
   "cell_type": "markdown",
   "id": "f8653491-d2f6-4552-a4b3-6280b56c5050",
   "metadata": {},
   "source": [
    "Comparing the RMSE calculation from all models is easiest in a table.\n"
   ]
  },
  {
   "cell_type": "code",
   "execution_count": null,
   "id": "fe075ba3-2bbc-48a6-83e0-ea18f3c0e706",
   "metadata": {},
   "outputs": [],
   "source": [
    "rmse_vals = [linearRegression_rmse, ridgeCV_rmse, lassoCV_rmse, elasticNetCV_rmse]\n",
    "\n",
    "labels = [\"Linear\", \"Ridge\", \"Lasso\", \"ElasticNet\"]\n",
    "\n",
    "rmse_df = pd.Series(rmse_vals, index=labels).to_frame()\n",
    "rmse_df.rename(columns={0: \"RMSE\"}, inplace=1)\n",
    "rmse_df"
   ]
  },
  {
   "cell_type": "markdown",
   "id": "74b18a5a-2201-409b-96d3-833e8c7ced58",
   "metadata": {},
   "source": [
    "We can also make a plot of actual vs predicted housing prices as before.\n"
   ]
  },
  {
   "cell_type": "code",
   "execution_count": null,
   "id": "76082ac6-cef4-4c3a-bd14-ab9ec10f26c0",
   "metadata": {},
   "outputs": [],
   "source": [
    "f = plt.figure(figsize=(6, 6))\n",
    "ax = plt.axes()\n",
    "\n",
    "labels = [\"Ridge\", \"Lasso\", \"ElasticNet\"]\n",
    "\n",
    "models = [ridgeCV, lassoCV, elasticNetCV]\n",
    "\n",
    "for mod, lab in zip(models, labels):\n",
    "    ax.plot(y_test, mod.predict(X_test), marker=\"o\", ls=\"\", ms=3.0, label=lab)\n",
    "\n",
    "\n",
    "leg = plt.legend(frameon=True)\n",
    "leg.get_frame().set_edgecolor(\"black\")\n",
    "leg.get_frame().set_linewidth(1.0)\n",
    "\n",
    "ax.set(\n",
    "    xlabel=\"Actual Price\", ylabel=\"Predicted Price\", title=\"Linear Regression Results\"\n",
    ");"
   ]
  },
  {
   "cell_type": "markdown",
   "id": "66252e33-8533-4f49-a216-c6d15fab72f4",
   "metadata": {},
   "source": [
    "## Question 8\n",
    "\n",
    "Let's explore Stochastic gradient descent in this exercise.\\\n",
    "Recall that Linear models in general are sensitive to scaling.\n",
    "However, SGD is *very* sensitive to scaling.\\\n",
    "Moreover, a high value of learning rate can cause the algorithm to diverge, whereas a too low value may take too long to converge.\n",
    "\n",
    "*   Fit a stochastic gradient descent model without a regularization penalty (the relevant parameter is `penalty`).\n",
    "*   Now fit stochastic gradient descent models with each of the three penalties (L2, L1, Elastic Net) using the parameter values determined by cross validation above.\n",
    "*   Do not scale the data before fitting the model.\n",
    "*   Compare the results to those obtained without using stochastic gradient descent.\n"
   ]
  },
  {
   "cell_type": "code",
   "execution_count": null,
   "id": "29f747f5-69fa-4269-b78f-ff7f630a2a35",
   "metadata": {},
   "outputs": [],
   "source": [
    "# Import SGDRegressor and prepare the parameters\n",
    "\n",
    "from sklearn.linear_model import SGDRegressor\n",
    "\n",
    "model_parameters_dict = {\n",
    "    \"Linear\": {\"penalty\": None},\n",
    "    \"Lasso\": {\"penalty\": \"l2\", \"alpha\": lassoCV.alpha_},\n",
    "    \"Ridge\": {\"penalty\": \"l1\", \"alpha\": ridgeCV_rmse},\n",
    "    \"ElasticNet\": {\n",
    "        \"penalty\": \"elasticnet\",\n",
    "        \"alpha\": elasticNetCV.alpha_,\n",
    "        \"l1_ratio\": elasticNetCV.l1_ratio_,\n",
    "    },\n",
    "}\n",
    "\n",
    "new_rmses = {}\n",
    "for modellabel, parameters in model_parameters_dict.items():\n",
    "    # following notation passes the dict items as arguments\n",
    "    SGD = SGDRegressor(**parameters)\n",
    "    SGD.fit(X_train, y_train)\n",
    "    new_rmses[modellabel] = rmse(y_test, SGD.predict(X_test))\n",
    "\n",
    "rmse_df[\"RMSE-SGD\"] = pd.Series(new_rmses)\n",
    "rmse_df"
   ]
  },
  {
   "cell_type": "markdown",
   "id": "2deffde8-c1d2-49bf-ac6b-ca2730002842",
   "metadata": {},
   "source": [
    "Notice how high the error values are! The algorithm is diverging. This can be due to scaling and/or learning rate being too high. Let's adjust the learning rate and see what happens.\n",
    "\n",
    "*   Pass in `eta0=1e-7` when creating the instance of `SGDClassifier`.\n",
    "*   Re-compute the errors for all the penalties and compare.\n"
   ]
  },
  {
   "cell_type": "code",
   "execution_count": null,
   "id": "1ea5dbec-df70-40b2-829c-17d0e4f8e877",
   "metadata": {},
   "outputs": [],
   "source": [
    "# Import SGDRegressor and prepare the parameters\n",
    "\n",
    "from sklearn.linear_model import SGDRegressor\n",
    "\n",
    "model_parameters_dict = {\n",
    "    \"Linear\": {\"penalty\": None},\n",
    "    \"Lasso\": {\"penalty\": \"l2\", \"alpha\": lassoCV.alpha_},\n",
    "    \"Ridge\": {\"penalty\": \"l1\", \"alpha\": ridgeCV_rmse},\n",
    "    \"ElasticNet\": {\n",
    "        \"penalty\": \"elasticnet\",\n",
    "        \"alpha\": elasticNetCV.alpha_,\n",
    "        \"l1_ratio\": elasticNetCV.l1_ratio_,\n",
    "    },\n",
    "}\n",
    "\n",
    "new_rmses = {}\n",
    "for modellabel, parameters in model_parameters_dict.items():\n",
    "    # following notation passes the dict items as arguments\n",
    "    SGD = SGDRegressor(eta0=1e-7, **parameters)\n",
    "    SGD.fit(X_train, y_train)\n",
    "    new_rmses[modellabel] = rmse(y_test, SGD.predict(X_test))\n",
    "\n",
    "rmse_df[\"RMSE-SGD-learningrate\"] = pd.Series(new_rmses)\n",
    "rmse_df"
   ]
  },
  {
   "cell_type": "markdown",
   "id": "2fd0db3a-48e8-4468-abb8-3999bdfd110e",
   "metadata": {},
   "source": [
    "Now let's scale our training data and try again.\n",
    "\n",
    "*   Fit a `MinMaxScaler` to `X_train` create a variable `X_train_scaled`.\n",
    "*   Using the scaler, transform `X_test` and create a variable `X_test_scaled`.\n",
    "*   Apply the same versions of SGD to them and compare the results. Don't pass in a eta0 this time.\n"
   ]
  },
  {
   "cell_type": "code",
   "execution_count": null,
   "id": "17cd8f55-8533-4fc4-8a2d-98637f124331",
   "metadata": {},
   "outputs": [],
   "source": [
    "from sklearn.preprocessing import MinMaxScaler\n",
    "\n",
    "scaler = MinMaxScaler()\n",
    "X_train_scaled = scaler.fit_transform(X_train)\n",
    "X_test_scaled = scaler.transform(X_test)\n",
    "\n",
    "new_rmses = {}\n",
    "for modellabel, parameters in model_parameters_dict.items():\n",
    "    # following notation passes the dict items as arguments\n",
    "    SGD = SGDRegressor(**parameters)\n",
    "    SGD.fit(X_train_scaled, y_train)\n",
    "    new_rmses[modellabel] = rmse(y_test, SGD.predict(X_test_scaled))\n",
    "\n",
    "rmse_df[\"RMSE-SGD-scaled\"] = pd.Series(new_rmses)\n",
    "rmse_df"
   ]
  },
  {
   "cell_type": "code",
   "execution_count": null,
   "id": "e1d8f789-358a-4282-81ae-aae81cdc0936",
   "metadata": {},
   "outputs": [],
   "source": [
    "from sklearn.preprocessing import MinMaxScaler\n",
    "\n",
    "scaler = MinMaxScaler()\n",
    "X_train_scaled = scaler.fit_transform(X_train)\n",
    "X_test_scaled = scaler.transform(X_test)\n",
    "\n",
    "new_rmses = {}\n",
    "for modellabel, parameters in model_parameters_dict.items():\n",
    "    # following notation passes the dict items as arguments\n",
    "    SGD = SGDRegressor(**parameters)\n",
    "    SGD.fit(X_train_scaled, y_train)\n",
    "    new_rmses[modellabel] = rmse(y_test, SGD.predict(X_test_scaled))\n",
    "\n",
    "rmse_df[\"RMSE-SGD-scaled\"] = pd.Series(new_rmses)\n",
    "rmse_df"
   ]
  },
  {
   "cell_type": "markdown",
   "id": "10874b0a-ba92-43d9-a1b6-9353b8483989",
   "metadata": {},
   "source": [
    "***\n",
    "\n",
    "### Machine Learning Foundation (C) 2020 IBM Corporation\n"
   ]
  }
 ],
 "metadata": {
  "kernelspec": {
   "display_name": ".venv",
   "language": "python",
   "name": "python3"
  },
  "language_info": {
   "codemirror_mode": {
    "name": "ipython",
    "version": 3
   },
   "file_extension": ".py",
   "mimetype": "text/x-python",
   "name": "python",
   "nbconvert_exporter": "python",
   "pygments_lexer": "ipython3",
   "version": "3.13.1"
  },
  "prev_pub_hash": "96fac7e91e6153a1fc7fa5cf9207ec109d476d5fb153ce4b5d411f3e46faff37"
 },
 "nbformat": 4,
 "nbformat_minor": 4
}
