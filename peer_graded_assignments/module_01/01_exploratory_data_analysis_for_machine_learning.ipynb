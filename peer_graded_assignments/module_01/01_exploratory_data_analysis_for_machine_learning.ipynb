{
 "cells": [
  {
   "cell_type": "code",
   "execution_count": 2,
   "metadata": {},
   "outputs": [],
   "source": [
    "# Use Jupyter Black for cell formatting\n",
    "import jupyter_black\n",
    "\n",
    "jupyter_black.load()"
   ]
  },
  {
   "cell_type": "markdown",
   "metadata": {},
   "source": [
    "---\n",
    "\n",
    "# Imports and Data Load"
   ]
  },
  {
   "cell_type": "code",
   "execution_count": 21,
   "metadata": {},
   "outputs": [],
   "source": [
    "# Imports\n",
    "import numpy as np\n",
    "import polars as pl\n",
    "import polars.selectors as cs\n",
    "import plotly.express as px\n",
    "import plotly.figure_factory as ff\n",
    "import scipy.stats as stats"
   ]
  },
  {
   "cell_type": "code",
   "execution_count": 4,
   "metadata": {},
   "outputs": [],
   "source": [
    "# Data Load\n",
    "df = pl.read_csv(\"./data/rotten_tomatoes_movies.csv\")"
   ]
  },
  {
   "cell_type": "markdown",
   "metadata": {},
   "source": [
    "---\n",
    "\n",
    "# Initial Data Exploration"
   ]
  },
  {
   "cell_type": "code",
   "execution_count": null,
   "metadata": {},
   "outputs": [],
   "source": [
    "# Data Shape\n",
    "df.shape"
   ]
  },
  {
   "cell_type": "code",
   "execution_count": 6,
   "metadata": {},
   "outputs": [],
   "source": [
    "# Convert strings to dates\n",
    "df = df.with_columns(\n",
    "    pl.col(\"in_theaters_date\").str.to_date(),\n",
    "    pl.col(\"on_streaming_date\").str.to_date(),\n",
    ")"
   ]
  },
  {
   "cell_type": "code",
   "execution_count": null,
   "metadata": {},
   "outputs": [],
   "source": [
    "# DTypes\n",
    "df.dtypes"
   ]
  },
  {
   "cell_type": "code",
   "execution_count": null,
   "metadata": {},
   "outputs": [],
   "source": [
    "# Missing data\n",
    "df.null_count()"
   ]
  },
  {
   "cell_type": "code",
   "execution_count": null,
   "metadata": {},
   "outputs": [],
   "source": [
    "# Column name to drop rows when null\n",
    "column_list = [\n",
    "    \"genre\",\n",
    "    \"directors\",\n",
    "    \"in_theaters_date\",\n",
    "    \"on_streaming_date\",\n",
    "    \"audience_rating\",\n",
    "    \"audience_count\",\n",
    "]\n",
    "\n",
    "df = df.filter(~pl.any_horizontal(pl.col(column_list).is_null()))\n",
    "\n",
    "df.shape"
   ]
  },
  {
   "cell_type": "code",
   "execution_count": null,
   "metadata": {},
   "outputs": [],
   "source": [
    "# Missing data\n",
    "df.null_count()"
   ]
  },
  {
   "cell_type": "code",
   "execution_count": null,
   "metadata": {},
   "outputs": [],
   "source": [
    "# Describe the Date and Numeric Columns\n",
    "df.select(cs.by_dtype(pl.Date, pl.Int64)).describe()"
   ]
  },
  {
   "cell_type": "markdown",
   "metadata": {},
   "source": [
    "---\n",
    "\n",
    "# Exploratory Data Analysis"
   ]
  },
  {
   "cell_type": "code",
   "execution_count": null,
   "metadata": {},
   "outputs": [],
   "source": [
    "# Barcharts of the categorical data\n",
    "fig_01 = px.histogram(\n",
    "    df, x=\"rating\", title=\"Rating Histogram (before cleaning)\", width=600, height=400\n",
    ")\n",
    "fig_01.show()"
   ]
  },
  {
   "cell_type": "code",
   "execution_count": 13,
   "metadata": {},
   "outputs": [],
   "source": [
    "# Clean up Rating data\n",
    "df = df.with_columns(\n",
    "    pl.col(\"rating\").str.replace_many(\n",
    "        [\"PG-13)\", \"R)\"],\n",
    "        [\"PG-13\", \"R\"],\n",
    "    )\n",
    ")"
   ]
  },
  {
   "cell_type": "code",
   "execution_count": null,
   "metadata": {},
   "outputs": [],
   "source": [
    "# Barcharts of the categorical data\n",
    "fig_01_new = px.histogram(\n",
    "    df, x=\"rating\", title=\"Rating Histogram (after cleaning)\", width=600, height=400\n",
    ")\n",
    "fig_01_new.show()"
   ]
  },
  {
   "cell_type": "code",
   "execution_count": null,
   "metadata": {},
   "outputs": [],
   "source": [
    "fig_02 = px.histogram(\n",
    "    df,\n",
    "    x=\"tomatometer_status\",\n",
    "    title=\"Tomato Meter Status Histogram\",\n",
    "    width=600,\n",
    "    height=400,\n",
    ")\n",
    "fig_02.show()"
   ]
  },
  {
   "cell_type": "markdown",
   "metadata": {},
   "source": [
    "---\n",
    "\n",
    "## Distibution plots of the Ratings\n",
    "\n",
    "Look at both the Tamoto Meter and Audience Ratings"
   ]
  },
  {
   "cell_type": "code",
   "execution_count": null,
   "metadata": {},
   "outputs": [],
   "source": [
    "# Group data together\n",
    "hist_data = [\n",
    "    df[\"tomatometer_rating\"].to_numpy(),\n",
    "    df[\"audience_rating\"].to_numpy(),\n",
    "]\n",
    "\n",
    "group_labels = [\n",
    "    \"Tomatometer Rating\",\n",
    "    \"Audience Rating\",\n",
    "]\n",
    "\n",
    "# Create distplot with custom bin_size\n",
    "fig_03 = ff.create_distplot(hist_data, group_labels, bin_size=5, show_rug=False)\n",
    "fig_03.update_layout(\n",
    "    width=600,\n",
    "    height=400,\n",
    "    title=\"Distribution Plots for Audience Rating and Tomatometer Rating\",\n",
    "    xaxis_title=\"Rating\",\n",
    "    yaxis_title=\"Distribution\",\n",
    ")\n",
    "fig_03.show()"
   ]
  },
  {
   "cell_type": "code",
   "execution_count": null,
   "metadata": {},
   "outputs": [],
   "source": [
    "print(f\"Tomato Meter Rating Skew: {df[\"tomatometer_rating\"].skew()}\")\n",
    "print(f\"Audience Rating Skew: {df[\"audience_rating\"].skew()}\")"
   ]
  },
  {
   "cell_type": "code",
   "execution_count": null,
   "metadata": {},
   "outputs": [],
   "source": [
    "# The Mean Values\n",
    "round(df[\"tomatometer_rating\"].mean(), 2), round(df[\"audience_rating\"].mean(), 2)"
   ]
  },
  {
   "cell_type": "code",
   "execution_count": null,
   "metadata": {},
   "outputs": [],
   "source": [
    "# Set Alpha\n",
    "alpha = 0.05\n",
    "\n",
    "# Calculate and Print\n",
    "t_value1, p_value1 = stats.ttest_ind(df[\"tomatometer_rating\"], df[\"audience_rating\"])\n",
    "print(f\"t_value1: {t_value1}\\np_value1: {p_value1}\")"
   ]
  },
  {
   "cell_type": "markdown",
   "metadata": {},
   "source": [
    "Next, although optional, it is useful to print 'if/else' statements to make our conclusions about the the hypothesis.\n"
   ]
  },
  {
   "cell_type": "code",
   "execution_count": null,
   "metadata": {},
   "outputs": [],
   "source": [
    "if p_value1 < alpha:\n",
    "    print(\"Conclusion: since p_value {} is less than alpha {} \".format(p_value1, alpha))\n",
    "    print(\n",
    "        \"Reject the null hypothesis that there is no difference between bmi of females and bmi of males.\"\n",
    "    )\n",
    "\n",
    "else:\n",
    "    print(\n",
    "        \"Conclusion: since p_value {} is greater than alpha {} \".format(p_value1, alpha)\n",
    "    )\n",
    "    print(\n",
    "        \"Fail to reject the null hypothesis that there is a difference between bmi of females and bmi of males.\"\n",
    "    )"
   ]
  },
  {
   "cell_type": "markdown",
   "metadata": {},
   "source": [
    "---\n",
    "\n",
    "### Theatre Date and Streaming Date Analysis"
   ]
  },
  {
   "cell_type": "code",
   "execution_count": null,
   "metadata": {},
   "outputs": [],
   "source": [
    "# Histogram of the Streaming date\n",
    "# Columns for the Streaming Year and Month\n",
    "df = df.with_columns(\n",
    "    pl.col(\"in_theaters_date\").dt.year().alias(\"theatre_year\"),\n",
    "    pl.col(\"in_theaters_date\").dt.month().alias(\"theatre_month\"),\n",
    "    pl.col(\"on_streaming_date\").dt.year().alias(\"streaming_year\"),\n",
    "    pl.col(\"on_streaming_date\").dt.month().alias(\"streaming_month\"),\n",
    ")\n",
    "\n",
    "fig_04 = px.box(\n",
    "    df,\n",
    "    x=\"streaming_year\",\n",
    "    title=\"Streaming Date Boxplot\",\n",
    "    width=600,\n",
    "    height=400,\n",
    "    points=\"all\",\n",
    ")\n",
    "fig_04.show()"
   ]
  },
  {
   "cell_type": "code",
   "execution_count": null,
   "metadata": {},
   "outputs": [],
   "source": [
    "# Movies Streamed before 1990\n",
    "df.filter(pl.col(\"streaming_year\").lt(1990))"
   ]
  },
  {
   "cell_type": "code",
   "execution_count": 20,
   "metadata": {},
   "outputs": [],
   "source": [
    "# Fix theatre and stream dates for The 39 Steps\n",
    "df = df.with_columns(\n",
    "    pl.when(pl.col(\"movie_title\").eq(\"The 39 Steps\"))\n",
    "    .then(pl.date(1935, 6, 6))\n",
    "    .otherwise(pl.col(\"in_theaters_date\"))\n",
    "    .alias(\"in_theaters_date\")\n",
    ").with_columns(\n",
    "    pl.when(pl.col(\"movie_title\").eq(\"The 39 Steps\"))\n",
    "    .then(pl.date(2017, 1, 12))\n",
    "    .otherwise(pl.col(\"on_streaming_date\"))\n",
    "    .alias(\"on_streaming_date\")\n",
    ")"
   ]
  },
  {
   "cell_type": "code",
   "execution_count": null,
   "metadata": {},
   "outputs": [],
   "source": [
    "# Violin of the Streaming date\n",
    "fig_04 = px.violin(\n",
    "    df,\n",
    "    x=\"streaming_year\",\n",
    "    title=\"Streaming Date Violin Plot\",\n",
    "    width=600,\n",
    "    height=400,\n",
    "    points=\"all\",\n",
    ")\n",
    "fig_04.show()"
   ]
  },
  {
   "cell_type": "code",
   "execution_count": null,
   "metadata": {},
   "outputs": [],
   "source": [
    "# The number of days, months, years between the\n",
    "# Theatre date and the streaming date\n",
    "df = df.with_columns(\n",
    "    (pl.col(\"on_streaming_date\") - pl.col(\"in_theaters_date\")).alias(\"days_between\")\n",
    ")\n",
    "\n",
    "# How many films have a streaming date before an in theatre date\n",
    "df.filter(pl.col(\"days_between\").lt(0)).shape"
   ]
  },
  {
   "cell_type": "markdown",
   "metadata": {},
   "source": [
    "---\n",
    "\n",
    "## Movie Runtime"
   ]
  },
  {
   "cell_type": "code",
   "execution_count": null,
   "metadata": {},
   "outputs": [],
   "source": [
    "# Boxplot of the Runtime\n",
    "fig_05 = px.box(\n",
    "    df.filter(pl.col(\"runtime_in_minutes\").is_not_null()),\n",
    "    x=\"runtime_in_minutes\",\n",
    "    title=\"Runtime in Minutes Boxplot\",\n",
    "    width=600,\n",
    "    height=400,\n",
    "    points=\"all\",\n",
    ")\n",
    "fig_05.show()"
   ]
  },
  {
   "cell_type": "code",
   "execution_count": null,
   "metadata": {},
   "outputs": [],
   "source": [
    "# Runtimes longer than 400 minutes\n",
    "df.filter(pl.col(\"runtime_in_minutes\").gt(400))"
   ]
  },
  {
   "cell_type": "code",
   "execution_count": 25,
   "metadata": {},
   "outputs": [],
   "source": [
    "# Fill nulll runtime values with the median\n",
    "df = df.with_columns(\n",
    "    pl.col(\"runtime_in_minutes\").fill_null(pl.col(\"runtime_in_minutes\").median())\n",
    ")\n",
    "\n",
    "mean_runtime = int(df[\"runtime_in_minutes\"].mean())\n",
    "\n",
    "# Fix movies with excessive runtimes\n",
    "# This can be done using the actual values\n",
    "df = df.with_columns(\n",
    "    pl.col(\"runtime_in_minutes\").replace([496, 2000, 480], [80, 93, mean_runtime])\n",
    ")"
   ]
  },
  {
   "cell_type": "code",
   "execution_count": null,
   "metadata": {},
   "outputs": [],
   "source": [
    "# Violin plot of the runtime\n",
    "fig_06 = px.violin(\n",
    "    df,\n",
    "    x=\"runtime_in_minutes\",\n",
    "    title=\"Runtime in Minutes Violin Plot\",\n",
    "    width=600,\n",
    "    height=400,\n",
    "    points=\"all\",\n",
    ")\n",
    "fig_06.show()"
   ]
  },
  {
   "cell_type": "markdown",
   "metadata": {},
   "source": [
    "---\n",
    "\n",
    "## Pair Plots and Correlation"
   ]
  },
  {
   "cell_type": "code",
   "execution_count": null,
   "metadata": {},
   "outputs": [],
   "source": [
    "# Average Tomatometer and Audience Ratings Over Time\n",
    "fig_07 = px.line(\n",
    "    df.group_by(\"theatre_year\")\n",
    "    .agg(\n",
    "        pl.col(\"tomatometer_rating\").mean().alias(\"average_tomatometer\"),\n",
    "        pl.col(\"audience_rating\").mean().alias(\"average_audience\"),\n",
    "    )\n",
    "    .sort(\"theatre_year\"),\n",
    "    x=\"theatre_year\",\n",
    "    y=[\"average_tomatometer\", \"average_audience\"],\n",
    "    width=600,\n",
    "    height=400,\n",
    "    title=\"Average Tomatometer and Audience Ratings Over Time\",\n",
    ")\n",
    "fig_07.update_layout(legend=dict(yanchor=\"top\", y=0.99, xanchor=\"right\", x=0.99))\n",
    "fig_07.show()"
   ]
  },
  {
   "cell_type": "code",
   "execution_count": null,
   "metadata": {},
   "outputs": [],
   "source": [
    "# Audience vs. Tomatometer Rating Comparison\n",
    "fig_08 = px.scatter(\n",
    "    df,\n",
    "    x=\"tomatometer_rating\",\n",
    "    y=\"audience_rating\",\n",
    "    trendline=\"ols\",\n",
    "    trendline_color_override=\"red\",\n",
    "    width=600,\n",
    "    height=400,\n",
    "    title=\"Audience Rating vs. Tomatometer Rating<br><sup>Including Trendline</sup>\",\n",
    ")\n",
    "fig_08.update_traces(marker_size=10, opacity=0.25)\n",
    "fig_08.data[1].update(line_color=\"red\", line_width=4)\n",
    "fig_08.update_layout(\n",
    "    xaxis_title=\"Tomatometer Rating\",\n",
    "    yaxis_title=\"Audience Rating\",\n",
    ")\n",
    "\n",
    "fig_08.show()"
   ]
  },
  {
   "cell_type": "code",
   "execution_count": null,
   "metadata": {},
   "outputs": [],
   "source": [
    "df.select(pl.col(\"tomatometer_rating\"), pl.col(\"audience_rating\")).corr()"
   ]
  },
  {
   "cell_type": "code",
   "execution_count": null,
   "metadata": {},
   "outputs": [],
   "source": [
    "df_corr = df.select(pl.col(pl.Float64, pl.Int64)).corr().with_columns(pl.all().round(3))\n",
    "\n",
    "df_corr = df_corr.rename(\n",
    "    {\n",
    "        \"runtime_in_minutes\": \"runtime\",\n",
    "        \"tomatometer_rating\": \"tm_rating\",\n",
    "        \"tomatometer_count\": \"tm_count\",\n",
    "        \"audience_rating\": \"aud_rating\",\n",
    "        \"audience_count\": \"aud_count\",\n",
    "    }\n",
    ")\n",
    "\n",
    "fig_09 = px.imshow(\n",
    "    df_corr,\n",
    "    text_auto=True,\n",
    "    color_continuous_scale=\"RdBu_r\",\n",
    "    width=600,\n",
    "    height=400,\n",
    "    title=\"Numeric Data Correlation Heatmap\",\n",
    ")\n",
    "\n",
    "fig_09.update_layout(\n",
    "    yaxis=dict(\n",
    "        tickmode=\"array\",\n",
    "        tickvals=[0, 1, 2, 3, 4],\n",
    "        ticktext=df_corr.columns,\n",
    "    )\n",
    ")\n",
    "\n",
    "fig_09.show()"
   ]
  },
  {
   "cell_type": "markdown",
   "metadata": {},
   "source": [
    "---\n",
    "\n",
    "## Feature Engineering"
   ]
  },
  {
   "cell_type": "code",
   "execution_count": null,
   "metadata": {},
   "outputs": [],
   "source": [
    "# https://stackoverflow.com/questions/74432537/cast-a-list-column-into-dummy-columns-in-python-polars\n",
    "df_genre = (\n",
    "    (\n",
    "        df.with_columns(\n",
    "            pl.int_range(pl.len()).alias(\"row_index\"),\n",
    "            pl.col(\"genre\").str.split(\", \"),\n",
    "            pl.lit(1).alias(\"__one__\"),\n",
    "        )\n",
    "        .explode(\"genre\")\n",
    "        .pivot(\n",
    "            on=\"genre\", index=\"row_index\", values=\"__one__\", aggregate_function=\"first\"\n",
    "        )\n",
    "        .fill_null(0)\n",
    "    )\n",
    "    .drop(\"row_index\")\n",
    "    .sum()\n",
    "    .transpose(include_header=True)\n",
    "    .rename({\"column\": \"genre\", \"column_0\": \"count_of_movies\"})\n",
    "    .sort(\"count_of_movies\")\n",
    ")"
   ]
  },
  {
   "cell_type": "code",
   "execution_count": null,
   "metadata": {},
   "outputs": [],
   "source": [
    "fig_10 = px.bar(\n",
    "    df_genre,\n",
    "    x=\"count_of_movies\",\n",
    "    y=\"genre\",\n",
    "    title=\"Most Popular Genres\",\n",
    "    width=600,\n",
    "    height=500,\n",
    "    orientation=\"h\",\n",
    ")\n",
    "fig_10.update_layout(\n",
    "    xaxis_title=\"Count of Movies\",\n",
    "    yaxis_title=\"Genre\",\n",
    ")\n",
    "\n",
    "fig_10.show()"
   ]
  },
  {
   "cell_type": "code",
   "execution_count": 162,
   "metadata": {},
   "outputs": [],
   "source": [
    "df_director = (\n",
    "    (\n",
    "        df.with_columns(\n",
    "            pl.int_range(pl.len()).alias(\"row_index\"),\n",
    "            pl.col(\"directors\").str.split(\", \"),\n",
    "            pl.lit(1).alias(\"__one__\"),\n",
    "        )\n",
    "        .explode(\"directors\")\n",
    "        .pivot(\n",
    "            on=\"directors\",\n",
    "            index=\"row_index\",\n",
    "            values=\"__one__\",\n",
    "            aggregate_function=\"first\",\n",
    "        )\n",
    "        .fill_null(0)\n",
    "    )\n",
    "    .drop(\"row_index\")\n",
    "    .sum()\n",
    "    .transpose(include_header=True)\n",
    "    .rename({\"column\": \"directors\", \"column_0\": \"count_of_movies\"})\n",
    "    .sort(\"count_of_movies\")\n",
    ")"
   ]
  },
  {
   "cell_type": "code",
   "execution_count": null,
   "metadata": {},
   "outputs": [],
   "source": [
    "(\n",
    "    df_director.shape,\n",
    "    df_director.select(\"count_of_movies\").max(),\n",
    "    df_director.select(\"count_of_movies\").mean(),\n",
    "    df_director.select(\"count_of_movies\").median(),\n",
    ")"
   ]
  },
  {
   "cell_type": "code",
   "execution_count": 165,
   "metadata": {},
   "outputs": [],
   "source": [
    "df_writer = (\n",
    "    (\n",
    "        df.with_columns(\n",
    "            pl.int_range(pl.len()).alias(\"row_index\"),\n",
    "            pl.col(\"writers\").str.split(\", \"),\n",
    "            pl.lit(1).alias(\"__one__\"),\n",
    "        )\n",
    "        .explode(\"writers\")\n",
    "        .pivot(\n",
    "            on=\"writers\",\n",
    "            index=\"row_index\",\n",
    "            values=\"__one__\",\n",
    "            aggregate_function=\"first\",\n",
    "        )\n",
    "        .fill_null(0)\n",
    "    )\n",
    "    .drop(\"row_index\")\n",
    "    .sum()\n",
    "    .transpose(include_header=True)\n",
    "    .rename({\"column\": \"writers\", \"column_0\": \"count_of_movies\"})\n",
    "    .sort(\"count_of_movies\")\n",
    ")"
   ]
  },
  {
   "cell_type": "code",
   "execution_count": null,
   "metadata": {},
   "outputs": [],
   "source": [
    "(\n",
    "    df_writer.shape,\n",
    "    df_writer.select(\"count_of_movies\").max(),\n",
    "    df_writer.select(\"count_of_movies\").mean(),\n",
    "    df_writer.select(\"count_of_movies\").median(),\n",
    ")"
   ]
  },
  {
   "cell_type": "code",
   "execution_count": 168,
   "metadata": {},
   "outputs": [],
   "source": [
    "df_cast = (\n",
    "    (\n",
    "        df.with_columns(\n",
    "            pl.int_range(pl.len()).alias(\"row_index\"),\n",
    "            pl.col(\"cast\").str.split(\", \"),\n",
    "            pl.lit(1).alias(\"__one__\"),\n",
    "        )\n",
    "        .explode(\"cast\")\n",
    "        .pivot(\n",
    "            on=\"cast\",\n",
    "            index=\"row_index\",\n",
    "            values=\"__one__\",\n",
    "            aggregate_function=\"first\",\n",
    "        )\n",
    "        .fill_null(0)\n",
    "    )\n",
    "    .drop(\"row_index\")\n",
    "    .sum()\n",
    "    .transpose(include_header=True)\n",
    "    .rename({\"column\": \"cast\", \"column_0\": \"count_of_movies\"})\n",
    "    .sort(\"count_of_movies\")\n",
    ")"
   ]
  },
  {
   "cell_type": "code",
   "execution_count": null,
   "metadata": {},
   "outputs": [],
   "source": [
    "(\n",
    "    df_cast.shape,\n",
    "    df_cast.select(\"count_of_movies\").max(),\n",
    "    df_cast.select(\"count_of_movies\").mean(),\n",
    "    df_cast.select(\"count_of_movies\").median(),\n",
    ")"
   ]
  },
  {
   "cell_type": "code",
   "execution_count": null,
   "metadata": {},
   "outputs": [],
   "source": [
    "df.head()"
   ]
  },
  {
   "cell_type": "code",
   "execution_count": null,
   "metadata": {},
   "outputs": [],
   "source": []
  }
 ],
 "metadata": {
  "kernelspec": {
   "display_name": ".venv",
   "language": "python",
   "name": "python3"
  },
  "language_info": {
   "codemirror_mode": {
    "name": "ipython",
    "version": 3
   },
   "file_extension": ".py",
   "mimetype": "text/x-python",
   "name": "python",
   "nbconvert_exporter": "python",
   "pygments_lexer": "ipython3",
   "version": "3.13.1"
  }
 },
 "nbformat": 4,
 "nbformat_minor": 2
}
